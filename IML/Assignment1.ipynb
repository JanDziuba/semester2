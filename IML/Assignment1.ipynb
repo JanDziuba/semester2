{
 "cells": [
  {
   "attachments": {},
   "cell_type": "markdown",
   "metadata": {},
   "source": [
    "# First project\n",
    "\n",
    "As in every machine learning task we have to preprocess our data.\n",
    "\n",
    "In most of the cases we start by using domain knowledge to prepare the representatation more feasible to the machine learning model.\n",
    "By doing so we usually reduce time and amount of labeled data needed to train model of appropriate quality. "
   ]
  },
  {
   "attachments": {},
   "cell_type": "markdown",
   "metadata": {},
   "source": [
    "0. Lets start by registering to the competition and downloading the data.\n",
    "\n",
    "You can find the assignemnt here - https://knowledgepit.ai/iml2023project1/ \\\n",
    "The registration code is: `iml2023project1`\n",
    "\n",
    "Now we will load the initial data and the pool."
   ]
  },
  {
   "cell_type": "code",
   "execution_count": 135,
   "metadata": {
    "ExecuteTime": {
     "end_time": "2023-05-02T16:55:07.299528Z",
     "start_time": "2023-05-02T16:55:07.188344Z"
    }
   },
   "outputs": [],
   "source": [
    "import pandas as pd\n",
    "import numpy as np\n",
    "import matplotlib.pyplot as plt\n",
    "from typing import Callable, List, Tuple\n",
    "\n",
    "initial_batch = pd.read_csv(\"initial_batch_dt.csv\")\n",
    "pool_data = pd.read_csv(\"pool_dt.csv\")"
   ]
  },
  {
   "cell_type": "code",
   "execution_count": 136,
   "metadata": {
    "ExecuteTime": {
     "end_time": "2023-05-02T16:55:07.325947Z",
     "start_time": "2023-05-02T16:55:07.183530Z"
    }
   },
   "outputs": [
    {
     "data": {
      "text/plain": [
       "frag                  bool\n",
       "map_id              object\n",
       "game_mode           object\n",
       "moving_player        int64\n",
       "player0_colour      object\n",
       "player1_colour      object\n",
       "player0_AI            bool\n",
       "player1_AI            bool\n",
       "hp_player0_unit1     int64\n",
       "hp_player0_unit2     int64\n",
       "dtype: object"
      ]
     },
     "execution_count": 136,
     "metadata": {},
     "output_type": "execute_result"
    }
   ],
   "source": [
    "initial_batch.dtypes[:10]"
   ]
  },
  {
   "cell_type": "code",
   "execution_count": 137,
   "metadata": {},
   "outputs": [
    {
     "data": {
      "text/html": [
       "<div>\n",
       "<style scoped>\n",
       "    .dataframe tbody tr th:only-of-type {\n",
       "        vertical-align: middle;\n",
       "    }\n",
       "\n",
       "    .dataframe tbody tr th {\n",
       "        vertical-align: top;\n",
       "    }\n",
       "\n",
       "    .dataframe thead th {\n",
       "        text-align: right;\n",
       "    }\n",
       "</style>\n",
       "<table border=\"1\" class=\"dataframe\">\n",
       "  <thead>\n",
       "    <tr style=\"text-align: right;\">\n",
       "      <th></th>\n",
       "      <th>frag</th>\n",
       "      <th>map_id</th>\n",
       "      <th>game_mode</th>\n",
       "      <th>moving_player</th>\n",
       "      <th>player0_colour</th>\n",
       "      <th>player1_colour</th>\n",
       "      <th>player0_AI</th>\n",
       "      <th>player1_AI</th>\n",
       "      <th>hp_player0_unit1</th>\n",
       "      <th>hp_player0_unit2</th>\n",
       "      <th>...</th>\n",
       "      <th>position_y_player1_unit3</th>\n",
       "      <th>position_y_player1_unit4</th>\n",
       "      <th>player0_unit1_type</th>\n",
       "      <th>player0_unit2_type</th>\n",
       "      <th>player0_unit3_type</th>\n",
       "      <th>player0_unit4_type</th>\n",
       "      <th>player1_unit1_type</th>\n",
       "      <th>player1_unit2_type</th>\n",
       "      <th>player1_unit3_type</th>\n",
       "      <th>player1_unit4_type</th>\n",
       "    </tr>\n",
       "  </thead>\n",
       "  <tbody>\n",
       "    <tr>\n",
       "      <th>0</th>\n",
       "      <td>True</td>\n",
       "      <td>Map03</td>\n",
       "      <td>Domination</td>\n",
       "      <td>0</td>\n",
       "      <td>#0000FF</td>\n",
       "      <td>#FF0000</td>\n",
       "      <td>False</td>\n",
       "      <td>False</td>\n",
       "      <td>0</td>\n",
       "      <td>0</td>\n",
       "      <td>...</td>\n",
       "      <td>-5.776100</td>\n",
       "      <td>-6.485828</td>\n",
       "      <td>Assault</td>\n",
       "      <td>Assault</td>\n",
       "      <td>Heavy</td>\n",
       "      <td>Scout</td>\n",
       "      <td>Assault</td>\n",
       "      <td>Assault</td>\n",
       "      <td>Heavy</td>\n",
       "      <td>Scout</td>\n",
       "    </tr>\n",
       "    <tr>\n",
       "      <th>1</th>\n",
       "      <td>False</td>\n",
       "      <td>Map18</td>\n",
       "      <td>Domination</td>\n",
       "      <td>1</td>\n",
       "      <td>#FF0000</td>\n",
       "      <td>#00FF00</td>\n",
       "      <td>True</td>\n",
       "      <td>True</td>\n",
       "      <td>70</td>\n",
       "      <td>100</td>\n",
       "      <td>...</td>\n",
       "      <td>8.077439</td>\n",
       "      <td>10.534909</td>\n",
       "      <td>Support</td>\n",
       "      <td>Assault</td>\n",
       "      <td>Heavy</td>\n",
       "      <td>Scout</td>\n",
       "      <td>Heavy</td>\n",
       "      <td>Heavy</td>\n",
       "      <td>Heavy</td>\n",
       "      <td>Scout</td>\n",
       "    </tr>\n",
       "    <tr>\n",
       "      <th>2</th>\n",
       "      <td>True</td>\n",
       "      <td>Map15</td>\n",
       "      <td>Domination</td>\n",
       "      <td>0</td>\n",
       "      <td>#FF0000</td>\n",
       "      <td>#00FF00</td>\n",
       "      <td>True</td>\n",
       "      <td>True</td>\n",
       "      <td>0</td>\n",
       "      <td>100</td>\n",
       "      <td>...</td>\n",
       "      <td>0.383224</td>\n",
       "      <td>-3.197381</td>\n",
       "      <td>Assault</td>\n",
       "      <td>Assault</td>\n",
       "      <td>Assault</td>\n",
       "      <td>Assault</td>\n",
       "      <td>Support</td>\n",
       "      <td>Heavy</td>\n",
       "      <td>Support</td>\n",
       "      <td>Heavy</td>\n",
       "    </tr>\n",
       "    <tr>\n",
       "      <th>3</th>\n",
       "      <td>False</td>\n",
       "      <td>Map14</td>\n",
       "      <td>Devastator</td>\n",
       "      <td>1</td>\n",
       "      <td>#FF0000</td>\n",
       "      <td>#00FF00</td>\n",
       "      <td>True</td>\n",
       "      <td>True</td>\n",
       "      <td>60</td>\n",
       "      <td>100</td>\n",
       "      <td>...</td>\n",
       "      <td>9.931442</td>\n",
       "      <td>5.132150</td>\n",
       "      <td>Scout</td>\n",
       "      <td>Assault</td>\n",
       "      <td>Assault</td>\n",
       "      <td>Assault</td>\n",
       "      <td>Heavy</td>\n",
       "      <td>Assault</td>\n",
       "      <td>Scout</td>\n",
       "      <td>Assault</td>\n",
       "    </tr>\n",
       "    <tr>\n",
       "      <th>4</th>\n",
       "      <td>False</td>\n",
       "      <td>Map06</td>\n",
       "      <td>Domination</td>\n",
       "      <td>1</td>\n",
       "      <td>#FF0C0C</td>\n",
       "      <td>#595EFF</td>\n",
       "      <td>False</td>\n",
       "      <td>False</td>\n",
       "      <td>100</td>\n",
       "      <td>140</td>\n",
       "      <td>...</td>\n",
       "      <td>-2.427895</td>\n",
       "      <td>-12.014837</td>\n",
       "      <td>Assault</td>\n",
       "      <td>Heavy</td>\n",
       "      <td>Scout</td>\n",
       "      <td>Support</td>\n",
       "      <td>Support</td>\n",
       "      <td>Assault</td>\n",
       "      <td>Heavy</td>\n",
       "      <td>Scout</td>\n",
       "    </tr>\n",
       "  </tbody>\n",
       "</table>\n",
       "<p>5 rows × 40 columns</p>\n",
       "</div>"
      ],
      "text/plain": [
       "    frag map_id   game_mode  moving_player player0_colour player1_colour  \\\n",
       "0   True  Map03  Domination              0        #0000FF        #FF0000   \n",
       "1  False  Map18  Domination              1        #FF0000        #00FF00   \n",
       "2   True  Map15  Domination              0        #FF0000        #00FF00   \n",
       "3  False  Map14  Devastator              1        #FF0000        #00FF00   \n",
       "4  False  Map06  Domination              1        #FF0C0C        #595EFF   \n",
       "\n",
       "   player0_AI  player1_AI  hp_player0_unit1  hp_player0_unit2  ...  \\\n",
       "0       False       False                 0                 0  ...   \n",
       "1        True        True                70               100  ...   \n",
       "2        True        True                 0               100  ...   \n",
       "3        True        True                60               100  ...   \n",
       "4       False       False               100               140  ...   \n",
       "\n",
       "   position_y_player1_unit3  position_y_player1_unit4  player0_unit1_type  \\\n",
       "0                 -5.776100                 -6.485828             Assault   \n",
       "1                  8.077439                 10.534909             Support   \n",
       "2                  0.383224                 -3.197381             Assault   \n",
       "3                  9.931442                  5.132150               Scout   \n",
       "4                 -2.427895                -12.014837             Assault   \n",
       "\n",
       "   player0_unit2_type  player0_unit3_type  player0_unit4_type  \\\n",
       "0             Assault               Heavy               Scout   \n",
       "1             Assault               Heavy               Scout   \n",
       "2             Assault             Assault             Assault   \n",
       "3             Assault             Assault             Assault   \n",
       "4               Heavy               Scout             Support   \n",
       "\n",
       "   player1_unit1_type  player1_unit2_type  player1_unit3_type  \\\n",
       "0             Assault             Assault               Heavy   \n",
       "1               Heavy               Heavy               Heavy   \n",
       "2             Support               Heavy             Support   \n",
       "3               Heavy             Assault               Scout   \n",
       "4             Support             Assault               Heavy   \n",
       "\n",
       "   player1_unit4_type  \n",
       "0               Scout  \n",
       "1               Scout  \n",
       "2               Heavy  \n",
       "3             Assault  \n",
       "4               Scout  \n",
       "\n",
       "[5 rows x 40 columns]"
      ]
     },
     "execution_count": 137,
     "metadata": {},
     "output_type": "execute_result"
    }
   ],
   "source": [
    "initial_batch.head()"
   ]
  },
  {
   "cell_type": "code",
   "execution_count": 138,
   "metadata": {},
   "outputs": [
    {
     "data": {
      "text/html": [
       "<div>\n",
       "<style scoped>\n",
       "    .dataframe tbody tr th:only-of-type {\n",
       "        vertical-align: middle;\n",
       "    }\n",
       "\n",
       "    .dataframe tbody tr th {\n",
       "        vertical-align: top;\n",
       "    }\n",
       "\n",
       "    .dataframe thead th {\n",
       "        text-align: right;\n",
       "    }\n",
       "</style>\n",
       "<table border=\"1\" class=\"dataframe\">\n",
       "  <thead>\n",
       "    <tr style=\"text-align: right;\">\n",
       "      <th></th>\n",
       "      <th>frag</th>\n",
       "      <th>map_id</th>\n",
       "      <th>game_mode</th>\n",
       "      <th>moving_player</th>\n",
       "      <th>player0_colour</th>\n",
       "      <th>player1_colour</th>\n",
       "      <th>player0_AI</th>\n",
       "      <th>player1_AI</th>\n",
       "      <th>hp_player0_unit1</th>\n",
       "      <th>hp_player0_unit2</th>\n",
       "      <th>...</th>\n",
       "      <th>position_y_player1_unit3</th>\n",
       "      <th>position_y_player1_unit4</th>\n",
       "      <th>player0_unit1_type</th>\n",
       "      <th>player0_unit2_type</th>\n",
       "      <th>player0_unit3_type</th>\n",
       "      <th>player0_unit4_type</th>\n",
       "      <th>player1_unit1_type</th>\n",
       "      <th>player1_unit2_type</th>\n",
       "      <th>player1_unit3_type</th>\n",
       "      <th>player1_unit4_type</th>\n",
       "    </tr>\n",
       "  </thead>\n",
       "  <tbody>\n",
       "    <tr>\n",
       "      <th>0</th>\n",
       "      <td>NaN</td>\n",
       "      <td>Map02</td>\n",
       "      <td>Domination</td>\n",
       "      <td>0</td>\n",
       "      <td>#0000FF</td>\n",
       "      <td>#FF0000</td>\n",
       "      <td>False</td>\n",
       "      <td>False</td>\n",
       "      <td>0</td>\n",
       "      <td>0</td>\n",
       "      <td>...</td>\n",
       "      <td>-1.469301</td>\n",
       "      <td>-5.040119</td>\n",
       "      <td>Assault</td>\n",
       "      <td>Assault</td>\n",
       "      <td>Heavy</td>\n",
       "      <td>Scout</td>\n",
       "      <td>Assault</td>\n",
       "      <td>Assault</td>\n",
       "      <td>Heavy</td>\n",
       "      <td>Scout</td>\n",
       "    </tr>\n",
       "    <tr>\n",
       "      <th>1</th>\n",
       "      <td>NaN</td>\n",
       "      <td>Map13</td>\n",
       "      <td>Devastator</td>\n",
       "      <td>0</td>\n",
       "      <td>#FF0000</td>\n",
       "      <td>#00FF00</td>\n",
       "      <td>True</td>\n",
       "      <td>True</td>\n",
       "      <td>140</td>\n",
       "      <td>60</td>\n",
       "      <td>...</td>\n",
       "      <td>8.500000</td>\n",
       "      <td>8.500000</td>\n",
       "      <td>Heavy</td>\n",
       "      <td>Scout</td>\n",
       "      <td>Assault</td>\n",
       "      <td>Scout</td>\n",
       "      <td>Scout</td>\n",
       "      <td>Scout</td>\n",
       "      <td>Scout</td>\n",
       "      <td>Support</td>\n",
       "    </tr>\n",
       "    <tr>\n",
       "      <th>2</th>\n",
       "      <td>NaN</td>\n",
       "      <td>Map20</td>\n",
       "      <td>Devastator</td>\n",
       "      <td>0</td>\n",
       "      <td>#FF0000</td>\n",
       "      <td>#00FF00</td>\n",
       "      <td>True</td>\n",
       "      <td>True</td>\n",
       "      <td>60</td>\n",
       "      <td>140</td>\n",
       "      <td>...</td>\n",
       "      <td>-1.154944</td>\n",
       "      <td>3.839918</td>\n",
       "      <td>Scout</td>\n",
       "      <td>Heavy</td>\n",
       "      <td>Support</td>\n",
       "      <td>Scout</td>\n",
       "      <td>Heavy</td>\n",
       "      <td>Scout</td>\n",
       "      <td>Assault</td>\n",
       "      <td>Scout</td>\n",
       "    </tr>\n",
       "    <tr>\n",
       "      <th>3</th>\n",
       "      <td>NaN</td>\n",
       "      <td>Map23</td>\n",
       "      <td>Domination</td>\n",
       "      <td>0</td>\n",
       "      <td>#FF0000</td>\n",
       "      <td>#00FF00</td>\n",
       "      <td>True</td>\n",
       "      <td>True</td>\n",
       "      <td>140</td>\n",
       "      <td>0</td>\n",
       "      <td>...</td>\n",
       "      <td>11.929678</td>\n",
       "      <td>-9.573396</td>\n",
       "      <td>Heavy</td>\n",
       "      <td>Assault</td>\n",
       "      <td>Support</td>\n",
       "      <td>Heavy</td>\n",
       "      <td>Scout</td>\n",
       "      <td>Assault</td>\n",
       "      <td>Assault</td>\n",
       "      <td>Scout</td>\n",
       "    </tr>\n",
       "    <tr>\n",
       "      <th>4</th>\n",
       "      <td>NaN</td>\n",
       "      <td>Map19</td>\n",
       "      <td>Devastator</td>\n",
       "      <td>0</td>\n",
       "      <td>#FF0000</td>\n",
       "      <td>#00FF00</td>\n",
       "      <td>True</td>\n",
       "      <td>True</td>\n",
       "      <td>0</td>\n",
       "      <td>70</td>\n",
       "      <td>...</td>\n",
       "      <td>-3.700404</td>\n",
       "      <td>-4.659382</td>\n",
       "      <td>Scout</td>\n",
       "      <td>Support</td>\n",
       "      <td>Support</td>\n",
       "      <td>Assault</td>\n",
       "      <td>Scout</td>\n",
       "      <td>Scout</td>\n",
       "      <td>Scout</td>\n",
       "      <td>Scout</td>\n",
       "    </tr>\n",
       "  </tbody>\n",
       "</table>\n",
       "<p>5 rows × 40 columns</p>\n",
       "</div>"
      ],
      "text/plain": [
       "   frag map_id   game_mode  moving_player player0_colour player1_colour  \\\n",
       "0   NaN  Map02  Domination              0        #0000FF        #FF0000   \n",
       "1   NaN  Map13  Devastator              0        #FF0000        #00FF00   \n",
       "2   NaN  Map20  Devastator              0        #FF0000        #00FF00   \n",
       "3   NaN  Map23  Domination              0        #FF0000        #00FF00   \n",
       "4   NaN  Map19  Devastator              0        #FF0000        #00FF00   \n",
       "\n",
       "   player0_AI  player1_AI  hp_player0_unit1  hp_player0_unit2  ...  \\\n",
       "0       False       False                 0                 0  ...   \n",
       "1        True        True               140                60  ...   \n",
       "2        True        True                60               140  ...   \n",
       "3        True        True               140                 0  ...   \n",
       "4        True        True                 0                70  ...   \n",
       "\n",
       "   position_y_player1_unit3  position_y_player1_unit4  player0_unit1_type  \\\n",
       "0                 -1.469301                 -5.040119             Assault   \n",
       "1                  8.500000                  8.500000               Heavy   \n",
       "2                 -1.154944                  3.839918               Scout   \n",
       "3                 11.929678                 -9.573396               Heavy   \n",
       "4                 -3.700404                 -4.659382               Scout   \n",
       "\n",
       "   player0_unit2_type  player0_unit3_type  player0_unit4_type  \\\n",
       "0             Assault               Heavy               Scout   \n",
       "1               Scout             Assault               Scout   \n",
       "2               Heavy             Support               Scout   \n",
       "3             Assault             Support               Heavy   \n",
       "4             Support             Support             Assault   \n",
       "\n",
       "   player1_unit1_type  player1_unit2_type  player1_unit3_type  \\\n",
       "0             Assault             Assault               Heavy   \n",
       "1               Scout               Scout               Scout   \n",
       "2               Heavy               Scout             Assault   \n",
       "3               Scout             Assault             Assault   \n",
       "4               Scout               Scout               Scout   \n",
       "\n",
       "   player1_unit4_type  \n",
       "0               Scout  \n",
       "1             Support  \n",
       "2               Scout  \n",
       "3               Scout  \n",
       "4               Scout  \n",
       "\n",
       "[5 rows x 40 columns]"
      ]
     },
     "execution_count": 138,
     "metadata": {},
     "output_type": "execute_result"
    }
   ],
   "source": [
    "pool_data.head()"
   ]
  },
  {
   "attachments": {},
   "cell_type": "markdown",
   "metadata": {},
   "source": [
    "The frag column is the target for our model, so lets move it to distinct series."
   ]
  },
  {
   "cell_type": "code",
   "execution_count": 139,
   "metadata": {},
   "outputs": [],
   "source": [
    "y = initial_batch['frag']\n",
    "initial_batch = initial_batch.drop(columns='frag')\n",
    "pool_data = pool_data.drop(columns='frag')"
   ]
  },
  {
   "cell_type": "code",
   "execution_count": 140,
   "metadata": {},
   "outputs": [
    {
     "data": {
      "text/plain": [
       "Index(['map_id', 'game_mode', 'moving_player', 'player0_colour',\n",
       "       'player1_colour', 'player0_AI', 'player1_AI', 'hp_player0_unit1',\n",
       "       'hp_player0_unit2', 'hp_player0_unit3', 'hp_player0_unit4',\n",
       "       'hp_player1_unit1', 'hp_player1_unit2', 'hp_player1_unit3',\n",
       "       'hp_player1_unit4', 'position_x_player0_unit1',\n",
       "       'position_x_player0_unit2', 'position_x_player0_unit3',\n",
       "       'position_x_player0_unit4', 'position_x_player1_unit1',\n",
       "       'position_x_player1_unit2', 'position_x_player1_unit3',\n",
       "       'position_x_player1_unit4', 'position_y_player0_unit1',\n",
       "       'position_y_player0_unit2', 'position_y_player0_unit3',\n",
       "       'position_y_player0_unit4', 'position_y_player1_unit1',\n",
       "       'position_y_player1_unit2', 'position_y_player1_unit3',\n",
       "       'position_y_player1_unit4', 'player0_unit1_type', 'player0_unit2_type',\n",
       "       'player0_unit3_type', 'player0_unit4_type', 'player1_unit1_type',\n",
       "       'player1_unit2_type', 'player1_unit3_type', 'player1_unit4_type'],\n",
       "      dtype='object')"
      ]
     },
     "execution_count": 140,
     "metadata": {},
     "output_type": "execute_result"
    }
   ],
   "source": [
    "initial_batch.columns"
   ]
  },
  {
   "attachments": {},
   "cell_type": "markdown",
   "metadata": {},
   "source": [
    "Let's now preprocess the data, our task is to predict if current player will score the kill in the current turn.\n",
    "Therefore we will preprocess the data in the following way:\n",
    "1. Transform all of the variables from player0 and player1 to the player moving in this turn and target player."
   ]
  },
  {
   "cell_type": "code",
   "execution_count": 141,
   "metadata": {},
   "outputs": [],
   "source": [
    "def transform_to_moving_target_player(data):\n",
    "    actions = ['moving', 'target']\n",
    "\n",
    "    # add new empty columns\n",
    "    for action in actions:\n",
    "        data[f'{action}_colour'] = np.nan\n",
    "        data[f'{action}_AI'] = np.nan\n",
    "        for unit in range(1, 5):\n",
    "            data[f\"hp_{action}_unit{unit}\"] = np.nan\n",
    "            data[f\"position_x_{action}_unit{unit}\"] = np.nan\n",
    "            data[f\"position_y_{action}_unit{unit}\"] = np.nan\n",
    "            data[f\"{action}_unit{unit}_type\"] = np.nan\n",
    "\n",
    "    # fill new columns\n",
    "    for row, moving_player in enumerate(data['moving_player']):\n",
    "        players = [0, 1]\n",
    "\n",
    "        if moving_player == 0:\n",
    "            actions_and_players = zip(actions, players)\n",
    "        else:\n",
    "            actions_and_players = zip(actions, players[::-1])\n",
    "\n",
    "        for action, player in actions_and_players:\n",
    "            data.loc[row, f'{action}_colour'] = data.loc[row, f'player{player}_colour']\n",
    "            data.loc[row, f'{action}_AI'] = data.loc[row, f'player{player}_AI']\n",
    "            for unit in range(1, 5):\n",
    "                data.loc[row, f\"hp_{action}_unit{unit}\"] = data.loc[row, f\"hp_player{player}_unit{unit}\"]\n",
    "                data.loc[row, f\"position_x_{action}_unit{unit}\"] = data.loc[row, f\"position_x_player{player}_unit{unit}\"]\n",
    "                data.loc[row, f\"position_y_{action}_unit{unit}\"] = data.loc[row, f\"position_y_player{player}_unit{unit}\"]\n",
    "                data.loc[row, f\"{action}_unit{unit}_type\"] = data.loc[row, f\"player{player}_unit{unit}_type\"]\n",
    "                \n",
    "    return data"
   ]
  },
  {
   "cell_type": "code",
   "execution_count": 142,
   "metadata": {},
   "outputs": [
    {
     "data": {
      "text/html": [
       "<div>\n",
       "<style scoped>\n",
       "    .dataframe tbody tr th:only-of-type {\n",
       "        vertical-align: middle;\n",
       "    }\n",
       "\n",
       "    .dataframe tbody tr th {\n",
       "        vertical-align: top;\n",
       "    }\n",
       "\n",
       "    .dataframe thead th {\n",
       "        text-align: right;\n",
       "    }\n",
       "</style>\n",
       "<table border=\"1\" class=\"dataframe\">\n",
       "  <thead>\n",
       "    <tr style=\"text-align: right;\">\n",
       "      <th></th>\n",
       "      <th>moving_player</th>\n",
       "      <th>hp_player0_unit1</th>\n",
       "      <th>hp_player1_unit1</th>\n",
       "      <th>hp_moving_unit1</th>\n",
       "      <th>hp_target_unit1</th>\n",
       "    </tr>\n",
       "  </thead>\n",
       "  <tbody>\n",
       "    <tr>\n",
       "      <th>0</th>\n",
       "      <td>0</td>\n",
       "      <td>0</td>\n",
       "      <td>100</td>\n",
       "      <td>0.0</td>\n",
       "      <td>100.0</td>\n",
       "    </tr>\n",
       "    <tr>\n",
       "      <th>1</th>\n",
       "      <td>1</td>\n",
       "      <td>70</td>\n",
       "      <td>140</td>\n",
       "      <td>140.0</td>\n",
       "      <td>70.0</td>\n",
       "    </tr>\n",
       "    <tr>\n",
       "      <th>2</th>\n",
       "      <td>0</td>\n",
       "      <td>0</td>\n",
       "      <td>70</td>\n",
       "      <td>0.0</td>\n",
       "      <td>70.0</td>\n",
       "    </tr>\n",
       "    <tr>\n",
       "      <th>3</th>\n",
       "      <td>1</td>\n",
       "      <td>60</td>\n",
       "      <td>140</td>\n",
       "      <td>140.0</td>\n",
       "      <td>60.0</td>\n",
       "    </tr>\n",
       "    <tr>\n",
       "      <th>4</th>\n",
       "      <td>1</td>\n",
       "      <td>100</td>\n",
       "      <td>70</td>\n",
       "      <td>70.0</td>\n",
       "      <td>100.0</td>\n",
       "    </tr>\n",
       "  </tbody>\n",
       "</table>\n",
       "</div>"
      ],
      "text/plain": [
       "   moving_player  hp_player0_unit1  hp_player1_unit1  hp_moving_unit1  \\\n",
       "0              0                 0               100              0.0   \n",
       "1              1                70               140            140.0   \n",
       "2              0                 0                70              0.0   \n",
       "3              1                60               140            140.0   \n",
       "4              1               100                70             70.0   \n",
       "\n",
       "   hp_target_unit1  \n",
       "0            100.0  \n",
       "1             70.0  \n",
       "2             70.0  \n",
       "3             60.0  \n",
       "4            100.0  "
      ]
     },
     "execution_count": 142,
     "metadata": {},
     "output_type": "execute_result"
    }
   ],
   "source": [
    "# We expect the following columns 'moving' and 'target' instead of player oriented columns \n",
    "transform_to_moving_target_player(initial_batch).head()[['moving_player', 'hp_player0_unit1', 'hp_player1_unit1', 'hp_moving_unit1', 'hp_target_unit1']]"
   ]
  },
  {
   "attachments": {},
   "cell_type": "markdown",
   "metadata": {},
   "source": [
    "2. Add counts of how many units are dead for moving and target player. Add sum of all units health for moving and target player."
   ]
  },
  {
   "cell_type": "code",
   "execution_count": 143,
   "metadata": {},
   "outputs": [],
   "source": [
    "def add_dead_counts_and_total_hp(data):\n",
    "    actions = ['moving', 'target']\n",
    "\n",
    "    for action in actions:\n",
    "        data[f'{action}_player_deads'] = data[[f\"hp_{action}_unit{unit}\" for unit in range(1, 5)]].eq(0).sum(axis=1)\n",
    "        data[f'{action}_player_total_hp'] = data[[f\"hp_{action}_unit{unit}\" for unit in range(1, 5)]].sum(axis=1)\n",
    "\n",
    "    return data"
   ]
  },
  {
   "cell_type": "code",
   "execution_count": 144,
   "metadata": {},
   "outputs": [
    {
     "data": {
      "text/html": [
       "<div>\n",
       "<style scoped>\n",
       "    .dataframe tbody tr th:only-of-type {\n",
       "        vertical-align: middle;\n",
       "    }\n",
       "\n",
       "    .dataframe tbody tr th {\n",
       "        vertical-align: top;\n",
       "    }\n",
       "\n",
       "    .dataframe thead th {\n",
       "        text-align: right;\n",
       "    }\n",
       "</style>\n",
       "<table border=\"1\" class=\"dataframe\">\n",
       "  <thead>\n",
       "    <tr style=\"text-align: right;\">\n",
       "      <th></th>\n",
       "      <th>moving_player_deads</th>\n",
       "      <th>target_player_deads</th>\n",
       "      <th>moving_player_total_hp</th>\n",
       "      <th>target_player_total_hp</th>\n",
       "    </tr>\n",
       "  </thead>\n",
       "  <tbody>\n",
       "    <tr>\n",
       "      <th>0</th>\n",
       "      <td>3</td>\n",
       "      <td>0</td>\n",
       "      <td>140.0</td>\n",
       "      <td>330.0</td>\n",
       "    </tr>\n",
       "    <tr>\n",
       "      <th>1</th>\n",
       "      <td>0</td>\n",
       "      <td>0</td>\n",
       "      <td>480.0</td>\n",
       "      <td>370.0</td>\n",
       "    </tr>\n",
       "    <tr>\n",
       "      <th>2</th>\n",
       "      <td>1</td>\n",
       "      <td>1</td>\n",
       "      <td>300.0</td>\n",
       "      <td>280.0</td>\n",
       "    </tr>\n",
       "    <tr>\n",
       "      <th>3</th>\n",
       "      <td>0</td>\n",
       "      <td>0</td>\n",
       "      <td>400.0</td>\n",
       "      <td>360.0</td>\n",
       "    </tr>\n",
       "    <tr>\n",
       "      <th>4</th>\n",
       "      <td>0</td>\n",
       "      <td>0</td>\n",
       "      <td>348.0</td>\n",
       "      <td>370.0</td>\n",
       "    </tr>\n",
       "  </tbody>\n",
       "</table>\n",
       "</div>"
      ],
      "text/plain": [
       "   moving_player_deads  target_player_deads  moving_player_total_hp  \\\n",
       "0                    3                    0                   140.0   \n",
       "1                    0                    0                   480.0   \n",
       "2                    1                    1                   300.0   \n",
       "3                    0                    0                   400.0   \n",
       "4                    0                    0                   348.0   \n",
       "\n",
       "   target_player_total_hp  \n",
       "0                   330.0  \n",
       "1                   370.0  \n",
       "2                   280.0  \n",
       "3                   360.0  \n",
       "4                   370.0  "
      ]
     },
     "execution_count": 144,
     "metadata": {},
     "output_type": "execute_result"
    }
   ],
   "source": [
    "add_dead_counts_and_total_hp(initial_batch).head()[['moving_player_deads', 'target_player_deads', 'moving_player_total_hp', 'target_player_total_hp']]"
   ]
  },
  {
   "attachments": {},
   "cell_type": "markdown",
   "metadata": {},
   "source": [
    "3. Create columns with euclidean distance between each unit of the currently moving player to the enemy units.\n",
    "\n",
    "But with slight modification, if one of the units is dead let's assign huge number to this distance, i.e. 1e6. \\\n",
    "In the testing model representation the distance is also multiplied by 50 to be consistent with map coordinates. \n",
    "\n",
    "Let's also create a column with distance multiplicated by health target unit divided by 10.\n",
    "In the testing model representation the weighted distance is also multiplied by 50 to be consistent with map coordinates. "
   ]
  },
  {
   "cell_type": "code",
   "execution_count": 145,
   "metadata": {},
   "outputs": [],
   "source": [
    "def add_units_distance(data):\n",
    "    for unit1 in range(1, 5):\n",
    "        for unit2 in range(1, 5):\n",
    "            x1 = data[f\"position_x_moving_unit{unit1}\"]\n",
    "            y1 = data[f\"position_y_moving_unit{unit1}\"]\n",
    "            x2 = data[f\"position_x_target_unit{unit2}\"]\n",
    "            y2 = data[f\"position_y_target_unit{unit2}\"]\n",
    "            data[f\"unit_distance_{unit1}{unit2}\"] = np.sqrt((x1 - x2)**2 + (y1 - y2)**2) * 50\n",
    "            data[f\"unit_weighted_distance_{unit1}{unit2}\"] = data[f\"hp_target_unit{unit2}\"] * data[f\"unit_distance_{unit1}{unit2}\"] * 5\n",
    "\n",
    "            unit_dead = (data[f\"hp_target_unit{unit2}\"] == 0) | (data[f\"hp_moving_unit{unit1}\"] == 0)\n",
    "            data.loc[unit_dead, f\"unit_distance_{unit1}{unit2}\"] = 1e6\n",
    "            data.loc[unit_dead, f\"unit_weighted_distance_{unit1}{unit2}\"] = 1e9\n",
    "\n",
    "    return data"
   ]
  },
  {
   "cell_type": "code",
   "execution_count": 146,
   "metadata": {},
   "outputs": [
    {
     "data": {
      "text/html": [
       "<div>\n",
       "<style scoped>\n",
       "    .dataframe tbody tr th:only-of-type {\n",
       "        vertical-align: middle;\n",
       "    }\n",
       "\n",
       "    .dataframe tbody tr th {\n",
       "        vertical-align: top;\n",
       "    }\n",
       "\n",
       "    .dataframe thead th {\n",
       "        text-align: right;\n",
       "    }\n",
       "</style>\n",
       "<table border=\"1\" class=\"dataframe\">\n",
       "  <thead>\n",
       "    <tr style=\"text-align: right;\">\n",
       "      <th></th>\n",
       "      <th>unit_distance_11</th>\n",
       "      <th>unit_weighted_distance_11</th>\n",
       "    </tr>\n",
       "  </thead>\n",
       "  <tbody>\n",
       "    <tr>\n",
       "      <th>0</th>\n",
       "      <td>1000000.000000</td>\n",
       "      <td>1.000000e+09</td>\n",
       "    </tr>\n",
       "    <tr>\n",
       "      <th>1</th>\n",
       "      <td>966.529613</td>\n",
       "      <td>3.382854e+05</td>\n",
       "    </tr>\n",
       "    <tr>\n",
       "      <th>2</th>\n",
       "      <td>1000000.000000</td>\n",
       "      <td>1.000000e+09</td>\n",
       "    </tr>\n",
       "    <tr>\n",
       "      <th>3</th>\n",
       "      <td>959.234638</td>\n",
       "      <td>2.877704e+05</td>\n",
       "    </tr>\n",
       "    <tr>\n",
       "      <th>4</th>\n",
       "      <td>1216.274452</td>\n",
       "      <td>6.081372e+05</td>\n",
       "    </tr>\n",
       "  </tbody>\n",
       "</table>\n",
       "</div>"
      ],
      "text/plain": [
       "   unit_distance_11  unit_weighted_distance_11\n",
       "0    1000000.000000               1.000000e+09\n",
       "1        966.529613               3.382854e+05\n",
       "2    1000000.000000               1.000000e+09\n",
       "3        959.234638               2.877704e+05\n",
       "4       1216.274452               6.081372e+05"
      ]
     },
     "execution_count": 146,
     "metadata": {},
     "output_type": "execute_result"
    }
   ],
   "source": [
    "add_units_distance(initial_batch).head()[['unit_distance_11', 'unit_weighted_distance_11']]"
   ]
  },
  {
   "cell_type": "code",
   "execution_count": 222,
   "metadata": {},
   "outputs": [
    {
     "data": {
      "image/png": "[encoded data removed]",
      "text/plain": [
       "<Figure size 640x480 with 1 Axes>"
      ]
     },
     "metadata": {},
     "output_type": "display_data"
    },
    {
     "name": "stdout",
     "output_type": "stream",
     "text": [
      "566\n"
     ]
    }
   ],
   "source": [
    "# plot initial_batch unit_distance_11\n",
    "plt.plot(initial_batch[initial_batch['unit_distance_11'] < 1e6]['unit_distance_11'])\n",
    "plt.show()\n",
    "print(len(initial_batch[initial_batch['unit_distance_11'] < 1e6]['unit_distance_11']))"
   ]
  },
  {
   "cell_type": "code",
   "execution_count": 221,
   "metadata": {},
   "outputs": [
    {
     "data": {
      "image/png": "[encoded data removed]",
      "text/plain": [
       "<Figure size 640x480 with 1 Axes>"
      ]
     },
     "metadata": {},
     "output_type": "display_data"
    },
    {
     "name": "stdout",
     "output_type": "stream",
     "text": [
      "566\n"
     ]
    }
   ],
   "source": [
    "# plot initial_batch unit_weighted_distance_11\n",
    "plt.plot(initial_batch[initial_batch['unit_weighted_distance_11'] < 1e9]['unit_weighted_distance_11'])\n",
    "plt.show()\n",
    "print(len(initial_batch[initial_batch['unit_weighted_distance_11'] < 1e9]['unit_weighted_distance_11']))"
   ]
  },
  {
   "attachments": {},
   "cell_type": "markdown",
   "metadata": {},
   "source": [
    "3. Drop the columns that are not needed:\n",
    "- all columns with player1 or player0 in the name \n",
    "- colour columns\n"
   ]
  },
  {
   "cell_type": "code",
   "execution_count": 147,
   "metadata": {},
   "outputs": [],
   "source": [
    "def drop_no_longer_needed_columns(data):\n",
    "    # drop all columns with player1 or player0 in the name.\n",
    "    data = data.drop(columns=[col for col in data.columns if 'player0' in col or 'player1' in col])\n",
    "    data = data.drop(columns=[col for col in data.columns if 'colour' in col])\n",
    "    return data"
   ]
  },
  {
   "cell_type": "code",
   "execution_count": 148,
   "metadata": {},
   "outputs": [],
   "source": [
    "initial_batch = drop_no_longer_needed_columns(initial_batch)"
   ]
  },
  {
   "cell_type": "code",
   "execution_count": 149,
   "metadata": {},
   "outputs": [
    {
     "data": {
      "text/plain": [
       "Index(['map_id', 'game_mode', 'moving_player', 'moving_AI', 'hp_moving_unit1',\n",
       "       'position_x_moving_unit1', 'position_y_moving_unit1',\n",
       "       'moving_unit1_type', 'hp_moving_unit2', 'position_x_moving_unit2',\n",
       "       'position_y_moving_unit2', 'moving_unit2_type', 'hp_moving_unit3',\n",
       "       'position_x_moving_unit3', 'position_y_moving_unit3',\n",
       "       'moving_unit3_type', 'hp_moving_unit4', 'position_x_moving_unit4',\n",
       "       'position_y_moving_unit4', 'moving_unit4_type', 'target_AI',\n",
       "       'hp_target_unit1', 'position_x_target_unit1', 'position_y_target_unit1',\n",
       "       'target_unit1_type', 'hp_target_unit2', 'position_x_target_unit2',\n",
       "       'position_y_target_unit2', 'target_unit2_type', 'hp_target_unit3',\n",
       "       'position_x_target_unit3', 'position_y_target_unit3',\n",
       "       'target_unit3_type', 'hp_target_unit4', 'position_x_target_unit4',\n",
       "       'position_y_target_unit4', 'target_unit4_type', 'moving_player_deads',\n",
       "       'moving_player_total_hp', 'target_player_deads',\n",
       "       'target_player_total_hp', 'unit_distance_11',\n",
       "       'unit_weighted_distance_11', 'unit_distance_12',\n",
       "       'unit_weighted_distance_12', 'unit_distance_13',\n",
       "       'unit_weighted_distance_13', 'unit_distance_14',\n",
       "       'unit_weighted_distance_14', 'unit_distance_21',\n",
       "       'unit_weighted_distance_21', 'unit_distance_22',\n",
       "       'unit_weighted_distance_22', 'unit_distance_23',\n",
       "       'unit_weighted_distance_23', 'unit_distance_24',\n",
       "       'unit_weighted_distance_24', 'unit_distance_31',\n",
       "       'unit_weighted_distance_31', 'unit_distance_32',\n",
       "       'unit_weighted_distance_32', 'unit_distance_33',\n",
       "       'unit_weighted_distance_33', 'unit_distance_34',\n",
       "       'unit_weighted_distance_34', 'unit_distance_41',\n",
       "       'unit_weighted_distance_41', 'unit_distance_42',\n",
       "       'unit_weighted_distance_42', 'unit_distance_43',\n",
       "       'unit_weighted_distance_43', 'unit_distance_44',\n",
       "       'unit_weighted_distance_44'],\n",
       "      dtype='object')"
      ]
     },
     "execution_count": 149,
     "metadata": {},
     "output_type": "execute_result"
    }
   ],
   "source": [
    "initial_batch.columns"
   ]
  },
  {
   "cell_type": "code",
   "execution_count": 150,
   "metadata": {},
   "outputs": [],
   "source": [
    "initial_batch['moving_AI'] = initial_batch['moving_AI'].astype(bool)\n",
    "initial_batch['target_AI'] = initial_batch['target_AI'].astype(bool)"
   ]
  },
  {
   "cell_type": "code",
   "execution_count": 151,
   "metadata": {},
   "outputs": [
    {
     "name": "stdout",
     "output_type": "stream",
     "text": [
      "<class 'pandas.core.frame.DataFrame'>\n",
      "RangeIndex: 1000 entries, 0 to 999\n",
      "Data columns (total 73 columns):\n",
      " #   Column                     Non-Null Count  Dtype  \n",
      "---  ------                     --------------  -----  \n",
      " 0   map_id                     1000 non-null   object \n",
      " 1   game_mode                  1000 non-null   object \n",
      " 2   moving_player              1000 non-null   int64  \n",
      " 3   moving_AI                  1000 non-null   bool   \n",
      " 4   hp_moving_unit1            1000 non-null   float64\n",
      " 5   position_x_moving_unit1    1000 non-null   float64\n",
      " 6   position_y_moving_unit1    1000 non-null   float64\n",
      " 7   moving_unit1_type          1000 non-null   object \n",
      " 8   hp_moving_unit2            1000 non-null   float64\n",
      " 9   position_x_moving_unit2    1000 non-null   float64\n",
      " 10  position_y_moving_unit2    1000 non-null   float64\n",
      " 11  moving_unit2_type          1000 non-null   object \n",
      " 12  hp_moving_unit3            1000 non-null   float64\n",
      " 13  position_x_moving_unit3    1000 non-null   float64\n",
      " 14  position_y_moving_unit3    1000 non-null   float64\n",
      " 15  moving_unit3_type          1000 non-null   object \n",
      " 16  hp_moving_unit4            1000 non-null   float64\n",
      " 17  position_x_moving_unit4    1000 non-null   float64\n",
      " 18  position_y_moving_unit4    1000 non-null   float64\n",
      " 19  moving_unit4_type          1000 non-null   object \n",
      " 20  target_AI                  1000 non-null   bool   \n",
      " 21  hp_target_unit1            1000 non-null   float64\n",
      " 22  position_x_target_unit1    1000 non-null   float64\n",
      " 23  position_y_target_unit1    1000 non-null   float64\n",
      " 24  target_unit1_type          1000 non-null   object \n",
      " 25  hp_target_unit2            1000 non-null   float64\n",
      " 26  position_x_target_unit2    1000 non-null   float64\n",
      " 27  position_y_target_unit2    1000 non-null   float64\n",
      " 28  target_unit2_type          1000 non-null   object \n",
      " 29  hp_target_unit3            1000 non-null   float64\n",
      " 30  position_x_target_unit3    1000 non-null   float64\n",
      " 31  position_y_target_unit3    1000 non-null   float64\n",
      " 32  target_unit3_type          1000 non-null   object \n",
      " 33  hp_target_unit4            1000 non-null   float64\n",
      " 34  position_x_target_unit4    1000 non-null   float64\n",
      " 35  position_y_target_unit4    1000 non-null   float64\n",
      " 36  target_unit4_type          1000 non-null   object \n",
      " 37  moving_player_deads        1000 non-null   int64  \n",
      " 38  moving_player_total_hp     1000 non-null   float64\n",
      " 39  target_player_deads        1000 non-null   int64  \n",
      " 40  target_player_total_hp     1000 non-null   float64\n",
      " 41  unit_distance_11           1000 non-null   float64\n",
      " 42  unit_weighted_distance_11  1000 non-null   float64\n",
      " 43  unit_distance_12           1000 non-null   float64\n",
      " 44  unit_weighted_distance_12  1000 non-null   float64\n",
      " 45  unit_distance_13           1000 non-null   float64\n",
      " 46  unit_weighted_distance_13  1000 non-null   float64\n",
      " 47  unit_distance_14           1000 non-null   float64\n",
      " 48  unit_weighted_distance_14  1000 non-null   float64\n",
      " 49  unit_distance_21           1000 non-null   float64\n",
      " 50  unit_weighted_distance_21  1000 non-null   float64\n",
      " 51  unit_distance_22           1000 non-null   float64\n",
      " 52  unit_weighted_distance_22  1000 non-null   float64\n",
      " 53  unit_distance_23           1000 non-null   float64\n",
      " 54  unit_weighted_distance_23  1000 non-null   float64\n",
      " 55  unit_distance_24           1000 non-null   float64\n",
      " 56  unit_weighted_distance_24  1000 non-null   float64\n",
      " 57  unit_distance_31           1000 non-null   float64\n",
      " 58  unit_weighted_distance_31  1000 non-null   float64\n",
      " 59  unit_distance_32           1000 non-null   float64\n",
      " 60  unit_weighted_distance_32  1000 non-null   float64\n",
      " 61  unit_distance_33           1000 non-null   float64\n",
      " 62  unit_weighted_distance_33  1000 non-null   float64\n",
      " 63  unit_distance_34           1000 non-null   float64\n",
      " 64  unit_weighted_distance_34  1000 non-null   float64\n",
      " 65  unit_distance_41           1000 non-null   float64\n",
      " 66  unit_weighted_distance_41  1000 non-null   float64\n",
      " 67  unit_distance_42           1000 non-null   float64\n",
      " 68  unit_weighted_distance_42  1000 non-null   float64\n",
      " 69  unit_distance_43           1000 non-null   float64\n",
      " 70  unit_weighted_distance_43  1000 non-null   float64\n",
      " 71  unit_distance_44           1000 non-null   float64\n",
      " 72  unit_weighted_distance_44  1000 non-null   float64\n",
      "dtypes: bool(2), float64(58), int64(3), object(10)\n",
      "memory usage: 556.8+ KB\n"
     ]
    }
   ],
   "source": [
    "initial_batch.info()"
   ]
  },
  {
   "attachments": {},
   "cell_type": "markdown",
   "metadata": {},
   "source": [
    "4. One hot encode categorical columns, make sure that numeric columns have numeric dtype"
   ]
  },
  {
   "cell_type": "code",
   "execution_count": 152,
   "metadata": {},
   "outputs": [],
   "source": [
    "from sklearn.preprocessing import OneHotEncoder\n",
    "\n",
    "def one_hot_encode_categorical(data, one_hot_encoder=None):\n",
    "    # change dtype from bool to int for moving_AI and target_AI\n",
    "    data['moving_AI'] = data['moving_AI'].astype(int)\n",
    "    data['target_AI'] = data['target_AI'].astype(int)\n",
    "\n",
    "    categorical_columns = ['map_id', 'game_mode', 'moving_unit1_type', 'moving_unit2_type', 'moving_unit3_type', 'moving_unit4_type', 'target_unit1_type', 'target_unit2_type', 'target_unit3_type', 'target_unit4_type']\n",
    "    if one_hot_encoder is None:\n",
    "        one_hot_encoder = OneHotEncoder(handle_unknown='ignore')\n",
    "        one_hot_encoder.fit(data[categorical_columns])\n",
    "    one_hot_encoded = one_hot_encoder.transform(data[categorical_columns]).toarray()\n",
    "    one_hot_encoded = pd.DataFrame(one_hot_encoded, columns=one_hot_encoder.get_feature_names_out(categorical_columns))\n",
    "    data = data.drop(columns=categorical_columns)\n",
    "    data = pd.concat([data, one_hot_encoded], axis=1)\n",
    "\n",
    "    return data, one_hot_encoder"
   ]
  },
  {
   "cell_type": "code",
   "execution_count": 153,
   "metadata": {},
   "outputs": [
    {
     "data": {
      "text/plain": [
       "moving_player                int64\n",
       "moving_AI                    int64\n",
       "hp_moving_unit1            float64\n",
       "position_x_moving_unit1    float64\n",
       "position_y_moving_unit1    float64\n",
       "hp_moving_unit2            float64\n",
       "position_x_moving_unit2    float64\n",
       "position_y_moving_unit2    float64\n",
       "hp_moving_unit3            float64\n",
       "position_x_moving_unit3    float64\n",
       "dtype: object"
      ]
     },
     "execution_count": 153,
     "metadata": {},
     "output_type": "execute_result"
    }
   ],
   "source": [
    "initial_batch, one_hot_encoder = one_hot_encode_categorical(initial_batch)\n",
    "initial_batch.dtypes[:10]"
   ]
  },
  {
   "cell_type": "code",
   "execution_count": 154,
   "metadata": {},
   "outputs": [],
   "source": [
    "def preprocess(data, one_hot_encoder=None):\n",
    "    data = transform_to_moving_target_player(data)\n",
    "    data = add_dead_counts_and_total_hp(data)\n",
    "    data = add_units_distance(data)\n",
    "    data= drop_no_longer_needed_columns(data)\n",
    "    data, one_hot_encoder = one_hot_encode_categorical(data, one_hot_encoder)\n",
    "    return data, one_hot_encoder"
   ]
  },
  {
   "cell_type": "code",
   "execution_count": 155,
   "metadata": {
    "pycharm": {
     "is_executing": true
    }
   },
   "outputs": [
    {
     "data": {
      "text/plain": [
       "(5000, 121)"
      ]
     },
     "execution_count": 155,
     "metadata": {},
     "output_type": "execute_result"
    }
   ],
   "source": [
    "pool_data, _ = preprocess(pool_data, one_hot_encoder)\n",
    "pool_data.shape"
   ]
  },
  {
   "attachments": {},
   "cell_type": "markdown",
   "metadata": {},
   "source": [
    "The model used for evaluation has exactly parameters like one below"
   ]
  },
  {
   "cell_type": "code",
   "execution_count": 157,
   "metadata": {
    "pycharm": {
     "is_executing": true
    }
   },
   "outputs": [],
   "source": [
    "from xgboost import XGBClassifier\n",
    "\n",
    "model = XGBClassifier(n_estimators = 300,\n",
    "                      max_depth = 8,\n",
    "                      learning_rate = 0.01,\n",
    "                      booster = 'gbtree',\n",
    "                      objective = 'binary:logistic',\n",
    "                      tree_method = 'exact',\n",
    "                      min_child_weight = 1,\n",
    "                      subsample = 1.0,\n",
    "                      colsample_bytree = 1.0,\n",
    "                      reg_alpha = 1,\n",
    "                      reg_lambda = 5,\n",
    "                      eval_metric = 'auc',\n",
    "                      )\n"
   ]
  },
  {
   "cell_type": "code",
   "execution_count": 158,
   "metadata": {
    "pycharm": {
     "is_executing": true
    }
   },
   "outputs": [
    {
     "data": {
      "text/html": [
       "<style>#sk-container-id-3 {color: black;background-color: white;}#sk-container-id-3 pre{padding: 0;}#sk-container-id-3 div.sk-toggleable {background-color: white;}#sk-container-id-3 label.sk-toggleable__label {cursor: pointer;display: block;width: 100%;margin-bottom: 0;padding: 0.3em;box-sizing: border-box;text-align: center;}#sk-container-id-3 label.sk-toggleable__label-arrow:before {content: \"▸\";float: left;margin-right: 0.25em;color: #696969;}#sk-container-id-3 label.sk-toggleable__label-arrow:hover:before {color: black;}#sk-container-id-3 div.sk-estimator:hover label.sk-toggleable__label-arrow:before {color: black;}#sk-container-id-3 div.sk-toggleable__content {max-height: 0;max-width: 0;overflow: hidden;text-align: left;background-color: #f0f8ff;}#sk-container-id-3 div.sk-toggleable__content pre {margin: 0.2em;color: black;border-radius: 0.25em;background-color: #f0f8ff;}#sk-container-id-3 input.sk-toggleable__control:checked~div.sk-toggleable__content {max-height: 200px;max-width: 100%;overflow: auto;}#sk-container-id-3 input.sk-toggleable__control:checked~label.sk-toggleable__label-arrow:before {content: \"▾\";}#sk-container-id-3 div.sk-estimator input.sk-toggleable__control:checked~label.sk-toggleable__label {background-color: #d4ebff;}#sk-container-id-3 div.sk-label input.sk-toggleable__control:checked~label.sk-toggleable__label {background-color: #d4ebff;}#sk-container-id-3 input.sk-hidden--visually {border: 0;clip: rect(1px 1px 1px 1px);clip: rect(1px, 1px, 1px, 1px);height: 1px;margin: -1px;overflow: hidden;padding: 0;position: absolute;width: 1px;}#sk-container-id-3 div.sk-estimator {font-family: monospace;background-color: #f0f8ff;border: 1px dotted black;border-radius: 0.25em;box-sizing: border-box;margin-bottom: 0.5em;}#sk-container-id-3 div.sk-estimator:hover {background-color: #d4ebff;}#sk-container-id-3 div.sk-parallel-item::after {content: \"\";width: 100%;border-bottom: 1px solid gray;flex-grow: 1;}#sk-container-id-3 div.sk-label:hover label.sk-toggleable__label {background-color: #d4ebff;}#sk-container-id-3 div.sk-serial::before {content: \"\";position: absolute;border-left: 1px solid gray;box-sizing: border-box;top: 0;bottom: 0;left: 50%;z-index: 0;}#sk-container-id-3 div.sk-serial {display: flex;flex-direction: column;align-items: center;background-color: white;padding-right: 0.2em;padding-left: 0.2em;position: relative;}#sk-container-id-3 div.sk-item {position: relative;z-index: 1;}#sk-container-id-3 div.sk-parallel {display: flex;align-items: stretch;justify-content: center;background-color: white;position: relative;}#sk-container-id-3 div.sk-item::before, #sk-container-id-3 div.sk-parallel-item::before {content: \"\";position: absolute;border-left: 1px solid gray;box-sizing: border-box;top: 0;bottom: 0;left: 50%;z-index: -1;}#sk-container-id-3 div.sk-parallel-item {display: flex;flex-direction: column;z-index: 1;position: relative;background-color: white;}#sk-container-id-3 div.sk-parallel-item:first-child::after {align-self: flex-end;width: 50%;}#sk-container-id-3 div.sk-parallel-item:last-child::after {align-self: flex-start;width: 50%;}#sk-container-id-3 div.sk-parallel-item:only-child::after {width: 0;}#sk-container-id-3 div.sk-dashed-wrapped {border: 1px dashed gray;margin: 0 0.4em 0.5em 0.4em;box-sizing: border-box;padding-bottom: 0.4em;background-color: white;}#sk-container-id-3 div.sk-label label {font-family: monospace;font-weight: bold;display: inline-block;line-height: 1.2em;}#sk-container-id-3 div.sk-label-container {text-align: center;}#sk-container-id-3 div.sk-container {/* jupyter's `normalize.less` sets `[hidden] { display: none; }` but bootstrap.min.css set `[hidden] { display: none !important; }` so we also need the `!important` here to be able to override the default hidden behavior on the sphinx rendered scikit-learn.org. See: https://github.com/scikit-learn/scikit-learn/issues/21755 */display: inline-block !important;position: relative;}#sk-container-id-3 div.sk-text-repr-fallback {display: none;}</style><div id=\"sk-container-id-3\" class=\"sk-top-container\"><div class=\"sk-text-repr-fallback\"><pre>XGBClassifier(base_score=None, booster=&#x27;gbtree&#x27;, callbacks=None,\n",
       "              colsample_bylevel=None, colsample_bynode=None,\n",
       "              colsample_bytree=1.0, early_stopping_rounds=None,\n",
       "              enable_categorical=False, eval_metric=&#x27;auc&#x27;, feature_types=None,\n",
       "              gamma=None, gpu_id=None, grow_policy=None, importance_type=None,\n",
       "              interaction_constraints=None, learning_rate=0.01, max_bin=None,\n",
       "              max_cat_threshold=None, max_cat_to_onehot=None,\n",
       "              max_delta_step=None, max_depth=8, max_leaves=None,\n",
       "              min_child_weight=1, missing=nan, monotone_constraints=None,\n",
       "              n_estimators=300, n_jobs=None, num_parallel_tree=None,\n",
       "              predictor=None, random_state=None, ...)</pre><b>In a Jupyter environment, please rerun this cell to show the HTML representation or trust the notebook. <br />On GitHub, the HTML representation is unable to render, please try loading this page with nbviewer.org.</b></div><div class=\"sk-container\" hidden><div class=\"sk-item\"><div class=\"sk-estimator sk-toggleable\"><input class=\"sk-toggleable__control sk-hidden--visually\" id=\"sk-estimator-id-3\" type=\"checkbox\" checked><label for=\"sk-estimator-id-3\" class=\"sk-toggleable__label sk-toggleable__label-arrow\">XGBClassifier</label><div class=\"sk-toggleable__content\"><pre>XGBClassifier(base_score=None, booster=&#x27;gbtree&#x27;, callbacks=None,\n",
       "              colsample_bylevel=None, colsample_bynode=None,\n",
       "              colsample_bytree=1.0, early_stopping_rounds=None,\n",
       "              enable_categorical=False, eval_metric=&#x27;auc&#x27;, feature_types=None,\n",
       "              gamma=None, gpu_id=None, grow_policy=None, importance_type=None,\n",
       "              interaction_constraints=None, learning_rate=0.01, max_bin=None,\n",
       "              max_cat_threshold=None, max_cat_to_onehot=None,\n",
       "              max_delta_step=None, max_depth=8, max_leaves=None,\n",
       "              min_child_weight=1, missing=nan, monotone_constraints=None,\n",
       "              n_estimators=300, n_jobs=None, num_parallel_tree=None,\n",
       "              predictor=None, random_state=None, ...)</pre></div></div></div></div></div>"
      ],
      "text/plain": [
       "XGBClassifier(base_score=None, booster='gbtree', callbacks=None,\n",
       "              colsample_bylevel=None, colsample_bynode=None,\n",
       "              colsample_bytree=1.0, early_stopping_rounds=None,\n",
       "              enable_categorical=False, eval_metric='auc', feature_types=None,\n",
       "              gamma=None, gpu_id=None, grow_policy=None, importance_type=None,\n",
       "              interaction_constraints=None, learning_rate=0.01, max_bin=None,\n",
       "              max_cat_threshold=None, max_cat_to_onehot=None,\n",
       "              max_delta_step=None, max_depth=8, max_leaves=None,\n",
       "              min_child_weight=1, missing=nan, monotone_constraints=None,\n",
       "              n_estimators=300, n_jobs=None, num_parallel_tree=None,\n",
       "              predictor=None, random_state=None, ...)"
      ]
     },
     "execution_count": 158,
     "metadata": {},
     "output_type": "execute_result"
    }
   ],
   "source": [
    "model.fit(initial_batch, y)"
   ]
  },
  {
   "cell_type": "code",
   "execution_count": 160,
   "metadata": {},
   "outputs": [
    {
     "data": {
      "text/plain": [
       "False    813\n",
       "True     187\n",
       "Name: frag, dtype: int64"
      ]
     },
     "execution_count": 160,
     "metadata": {},
     "output_type": "execute_result"
    }
   ],
   "source": [
    "y.value_counts()"
   ]
  },
  {
   "cell_type": "code",
   "execution_count": 161,
   "metadata": {},
   "outputs": [],
   "source": [
    "#get number of False values in y\n",
    "y_n_false = y.value_counts()[0]\n",
    "y_n_true = y.value_counts()[1]"
   ]
  },
  {
   "attachments": {},
   "cell_type": "markdown",
   "metadata": {},
   "source": [
    "I tried using modAL library, but found it troublesome."
   ]
  },
  {
   "cell_type": "code",
   "execution_count": 163,
   "metadata": {
    "pycharm": {
     "is_executing": true
    }
   },
   "outputs": [],
   "source": [
    "# # Try out all sampling methods from modAl\n",
    "# from modAL.models import ActiveLearner\n",
    "# from modAL.uncertainty import *\n",
    "# from modAL.batch import *\n",
    "# from modAL.disagreement import *\n",
    "# from modAL.density import *\n",
    "# from modAL.expected_error import *\n",
    "# from modAL.multilabel import *\n",
    "# from modAL.uncertainty import *\n",
    "# from modAL.models import ActiveLearner, Committee\n",
    "# from modAL.disagreement import vote_entropy_sampling, max_disagreement_sampling, consensus_entropy_sampling, max_std_sampling\n",
    "\n",
    "# def sample_and_save(query_strategy):\n",
    "#     # initializing the learner\n",
    "#     learner = ActiveLearner(\n",
    "#         estimator=model,\n",
    "#         query_strategy=query_strategy,\n",
    "#         X_training=initial_batch.values, y_training=y.values\n",
    "#     )\n",
    "\n",
    "#     # query for labels\n",
    "#     query_idx_small, query_inst_small = learner.query(pool_data.values, n_instances=50)\n",
    "#     query_idx_big, query_inst_big = learner.query(pool_data.values, n_instances=200)\n",
    "\n",
    "#     # save query_idx to text file in one line separated by commas\n",
    "#     with open(query_strategy.__name__ + '.txt', 'w') as f:\n",
    "#         f.write(','.join([str(idx+1) for idx in query_idx_small]))\n",
    "#         f.write('\\n')\n",
    "#         f.write(','.join([str(idx+1) for idx in query_idx_big]))\n",
    "\n",
    "# sample_and_save(uncertainty_sampling)\n",
    "# sample_and_save(entropy_sampling)\n",
    "# sample_and_save(margin_sampling)\n",
    "# sample_and_save(uncertainty_batch_sampling)\n",
    "# sample_and_save(consensus_entropy_sampling)\n",
    "# # sample_and_save(max_std_sampling)\n"
   ]
  },
  {
   "cell_type": "code",
   "execution_count": 164,
   "metadata": {
    "collapsed": false,
    "pycharm": {
     "is_executing": true
    }
   },
   "outputs": [],
   "source": [
    "# # Do Bootstrapping and bagging using modAL\n",
    "# from modAL.models import ActiveLearner, Committee\n",
    "# from modAL.disagreement import vote_entropy_sampling, max_disagreement_sampling, consensus_entropy_sampling, max_std_sampling\n",
    "\n",
    "# # initializing Committee members\n",
    "# n_members = 2\n",
    "# learner_list = list()\n",
    "\n",
    "# for member_idx in range(n_members):\n",
    "#     # initial training data\n",
    "#     n_initial = 100\n",
    "#     train_idx = np.random.choice(range(X.shape[0]), size=n_initial, replace=False)\n",
    "#     X_train = X[train_idx]\n",
    "#     y_train = y[train_idx]\n",
    "\n",
    "#     # creating a reduced copy of the data with the known instances removed\n",
    "#     X_pool = np.delete(X, train_idx, axis=0)\n",
    "#     y_pool = np.delete(y, train_idx)\n",
    "\n",
    "#     # initializing learner\n",
    "#     learner = ActiveLearner(\n",
    "#         estimator=RandomForestClassifier(),\n",
    "#         X_training=X_train, y_training=y_train\n",
    "#     )\n",
    "#     learner_list.append(learner)\n",
    "\n",
    "# # assembling the committee\n",
    "# committee = Committee(\n",
    "#     learner_list=learner_list,\n",
    "#     query_strategy=max_disagreement_sampling\n",
    "# )\n",
    "\n",
    "\n"
   ]
  },
  {
   "attachments": {},
   "cell_type": "markdown",
   "metadata": {},
   "source": [
    "Different uncertainty functions. Ended up using my_uncertainty with peak at y_n_false/(y_n_false + y_n_true) probability"
   ]
  },
  {
   "cell_type": "code",
   "execution_count": 273,
   "metadata": {
    "collapsed": false,
    "pycharm": {
     "is_executing": true
    }
   },
   "outputs": [],
   "source": [
    "# Write active learning from scratch\n",
    "\n",
    "def entropy_uncertainty(predictions_probabilities: np.ndarray) -> np.ndarray:\n",
    "  # return the entropy of the predictions\n",
    "  return -np.sum(predictions_probabilities * np.log(predictions_probabilities), axis=1)\n",
    "\n",
    "def margin_uncertainty(predictions_probabilities: np.ndarray) -> np.ndarray:\n",
    "  # return the margin of the predictions\n",
    "  return np.max(predictions_probabilities, axis=1) - np.partition(predictions_probabilities, -2, axis=1)[:, -2]\n",
    "\n",
    "def random_uncertainty(predictions_probabilities: np.ndarray) -> np.ndarray:\n",
    "  # return random values\n",
    "  return np.random.rand(predictions_probabilities.shape[0])\n",
    "\n",
    "def least_confidence_uncertainty(predictions_probabilities: np.ndarray) -> np.ndarray:\n",
    "  # return the least confidence of the predictions\n",
    "  return 1 - np.max(predictions_probabilities, axis=1)\n",
    "\n",
    "def my_uncertainty(predictions_probabilities: np.ndarray) -> np.ndarray:\n",
    "  # return the least confidence of the predictions\n",
    "  return 1 - np.absolute(predictions_probabilities[:, 0] - y_n_false/(y_n_false + y_n_true))\n",
    "\n",
    "def uniform_uncertainty(predictions_probabilities: np.ndarray) -> np.ndarray:\n",
    "  # return the entropy of the predictions\n",
    "  return np.ones(predictions_probabilities.shape[0])\n",
    "\n",
    "def skewed_entropy_uncertainty(predictions_probabilities: np.ndarray) -> np.ndarray:\n",
    "    skew_false = y_n_false/(y_n_false + y_n_true)\n",
    "    skew_true = y_n_true/(y_n_false + y_n_true)\n",
    "    c = np.array((predictions_probabilities[:, 0] / skew_false, predictions_probabilities[:, 1] / skew_true))\n",
    "    predictions_probabilities = c.T / np.sum(c.T, axis=1, keepdims=True)\n",
    "    return -np.sum(predictions_probabilities * np.log(predictions_probabilities), axis=1)\n"
   ]
  },
  {
   "cell_type": "code",
   "execution_count": 314,
   "metadata": {},
   "outputs": [
    {
     "name": "stderr",
     "output_type": "stream",
     "text": [
      "/tmp/ipykernel_31272/1608887882.py:44: RuntimeWarning: divide by zero encountered in log2\n",
      "  return -np.sum(y_prob * np.log2(y_prob), axis=1)\n",
      "/tmp/ipykernel_31272/1608887882.py:44: RuntimeWarning: invalid value encountered in multiply\n",
      "  return -np.sum(y_prob * np.log2(y_prob), axis=1)\n"
     ]
    },
    {
     "data": {
      "image/png": "[encoded data removed]",
      "text/plain": [
       "<Figure size 640x480 with 1 Axes>"
      ]
     },
     "metadata": {},
     "output_type": "display_data"
    }
   ],
   "source": [
    "probs = np.arange(0, 1, 0.01)\n",
    "probs2 = 1-probs\n",
    "\n",
    "target_dist = np.array([813/1000, 187/1000])\n",
    "\n",
    "plt.plot(probs, skewed_entropy_uncertainty(np.array([probs, probs2]).T,))\n",
    "plt.show()"
   ]
  },
  {
   "attachments": {},
   "cell_type": "markdown",
   "metadata": {},
   "source": [
    "Functions for sampling using uncertainty."
   ]
  },
  {
   "cell_type": "code",
   "execution_count": 166,
   "metadata": {},
   "outputs": [],
   "source": [
    "def select_next_samples_indices(\n",
    "    clf,\n",
    "    unlabeled_data: pd.DataFrame,\n",
    "    uncertainty_measure: Callable[[np.ndarray], np.ndarray],\n",
    "    n_samples: int = 1\n",
    ") -> Tuple[List[int], pd.DataFrame]:\n",
    "  # select n_samples from unlabeled data using uncertainty_measure\n",
    "  predictions_probabilities = clf.predict_proba(unlabeled_data)\n",
    "  uncertainty = uncertainty_measure(predictions_probabilities)\n",
    "  selected_indices = np.argsort(uncertainty)[-n_samples:]\n",
    "  return selected_indices\n",
    "\n",
    "\n",
    "def sample_and_safe_from_scratch(query_strategy):\n",
    "    small_indices= select_next_samples_indices(model, pool_data, query_strategy, 50)\n",
    "    big_indices = select_next_samples_indices(model, pool_data, query_strategy, 200)\n",
    "\n",
    "    # save query_idx to text file in one line separated by commas\n",
    "    with open(query_strategy.__name__ + '_from_scratch.txt', 'w') as f:\n",
    "        f.write(','.join([str(idx+1) for idx in small_indices]))\n",
    "        f.write('\\n')\n",
    "        f.write(','.join([str(idx+1) for idx in big_indices]))\n"
   ]
  },
  {
   "cell_type": "code",
   "execution_count": 275,
   "metadata": {},
   "outputs": [],
   "source": [
    "sample_and_safe_from_scratch(entropy_uncertainty)\n",
    "sample_and_safe_from_scratch(margin_uncertainty)\n",
    "sample_and_safe_from_scratch(random_uncertainty)\n",
    "sample_and_safe_from_scratch(least_confidence_uncertainty)\n",
    "sample_and_safe_from_scratch(my_uncertainty)\n",
    "sample_and_safe_from_scratch(skewed_entropy_uncertainty)"
   ]
  },
  {
   "attachments": {},
   "cell_type": "markdown",
   "metadata": {},
   "source": [
    "Similarity functions for sampling using uncertainty + knn similarity."
   ]
  },
  {
   "cell_type": "code",
   "execution_count": 200,
   "metadata": {},
   "outputs": [],
   "source": [
    "def cosine_similarity(data: pd.DataFrame, sample) -> np.ndarray:\n",
    "    # compute cosine similarity to all other samples\n",
    "    cosine_similarities = np.dot(data, sample) / (np.linalg.norm(data, axis=1) * np.linalg.norm(sample))\n",
    "    return cosine_similarities\n",
    "\n",
    "\n",
    "def euclidian_similarity(data: pd.DataFrame, sample) -> np.ndarray:\n",
    "    # compute euclidian distance to all other samples\n",
    "    euclidian_distances = np.linalg.norm(data - sample, axis=1)\n",
    "    euclidian_similarities = 1 / (1 + euclidian_distances)\n",
    "    return euclidian_similarities\n",
    "\n",
    "\n",
    "def get_similarity(data, similarity_measure, number_of_neighbours):\n",
    "  average_similarities = np.zeros(data.shape[0])\n",
    "\n",
    "  for i, sample in data.iterrows():\n",
    "    # compute cosine similarity to all other samples\n",
    "    similarities = similarity_measure(data, sample)\n",
    "    # sort by similarity\n",
    "    sorted_indices = np.argsort(similarities)\n",
    "    # take 5 nearest neighbors\n",
    "    nearest_neighbors = similarities[sorted_indices[-number_of_neighbours:]]\n",
    "    # compute average similarity\n",
    "    average_similarities[i] = np.mean(nearest_neighbors)\n",
    "\n",
    "  return average_similarities"
   ]
  },
  {
   "cell_type": "code",
   "execution_count": 201,
   "metadata": {},
   "outputs": [],
   "source": [
    "pool_data_normalized = (pool_data - pool_data.mean(axis=0)) / pool_data.std(axis=0)"
   ]
  },
  {
   "cell_type": "code",
   "execution_count": 202,
   "metadata": {},
   "outputs": [
    {
     "data": {
      "image/png": "[encoded data removed]",
      "text/plain": [
       "<Figure size 640x480 with 1 Axes>"
      ]
     },
     "metadata": {},
     "output_type": "display_data"
    }
   ],
   "source": [
    "cosine_similarities = get_similarity(pool_data_normalized, cosine_similarity, 5)\n",
    "plt.hist(cosine_similarities, bins=100)\n",
    "plt.show()"
   ]
  },
  {
   "cell_type": "code",
   "execution_count": 203,
   "metadata": {},
   "outputs": [
    {
     "data": {
      "image/png": "[encoded data removed]",
      "text/plain": [
       "<Figure size 640x480 with 1 Axes>"
      ]
     },
     "metadata": {},
     "output_type": "display_data"
    }
   ],
   "source": [
    "euclidian_similarities = get_similarity(pool_data_normalized, euclidian_similarity, 5)\n",
    "plt.hist(euclidian_similarities, bins=100)\n",
    "plt.show()"
   ]
  },
  {
   "cell_type": "code",
   "execution_count": 204,
   "metadata": {},
   "outputs": [
    {
     "data": {
      "image/png": "[encoded data removed]",
      "text/plain": [
       "<Figure size 640x480 with 1 Axes>"
      ]
     },
     "metadata": {},
     "output_type": "display_data"
    }
   ],
   "source": [
    "cosine_similarities = get_similarity(pool_data_normalized, cosine_similarity, 10)\n",
    "plt.hist(cosine_similarities, bins=100)\n",
    "plt.show()"
   ]
  },
  {
   "cell_type": "code",
   "execution_count": 313,
   "metadata": {},
   "outputs": [],
   "source": [
    "def select_with_similarity(\n",
    "    clf,\n",
    "    unlabeled_data: pd.DataFrame,\n",
    "    uncertainty_measure: Callable[[np.ndarray], np.ndarray],\n",
    "    similarity_measure,\n",
    "    number_of_neighbours,\n",
    "    n_samples: int = 1,\n",
    "    alpha: float = 1/2\n",
    ") -> Tuple[List[int], pd.DataFrame]:\n",
    "  # select n_samples from unlabeled data using uncertainty_measure\n",
    "  predictions_probabilities = clf.predict_proba(unlabeled_data)\n",
    "  uncertainty = uncertainty_measure(predictions_probabilities)\n",
    "  pool_data_normalized = (pool_data - pool_data.mean(axis=0)) / pool_data.std(axis=0)\n",
    "  similarities = get_similarity(pool_data_normalized, similarity_measure, number_of_neighbours)\n",
    "  informativeness = uncertainty * (similarities**(alpha))\n",
    "\n",
    "  selected_indices = np.argsort(informativeness)[-n_samples:]\n",
    "  return selected_indices\n",
    "\n",
    "\n",
    "def sample_and_safe_with_similarity(query_strategy, similarity_measure, number_of_neighbours):\n",
    "    small_indices= select_with_similarity(model, pool_data, query_strategy, similarity_measure, number_of_neighbours, 50)\n",
    "    big_indices = select_with_similarity(model, pool_data, query_strategy, similarity_measure, number_of_neighbours, 200)\n",
    "\n",
    "    # save query_idx to text file in one line separated by commas\n",
    "    with open(f'{query_strategy.__name__}_with_{similarity_measure.__name__}_{number_of_neighbours}_neighbours.txt', 'w') as f:\n",
    "        f.write(','.join([str(idx+1) for idx in small_indices]))\n",
    "        f.write('\\n')\n",
    "        f.write(','.join([str(idx+1) for idx in big_indices]))"
   ]
  },
  {
   "cell_type": "code",
   "execution_count": 312,
   "metadata": {},
   "outputs": [],
   "source": [
    "# sample_and_safe_with_similarity(my_uncertainty, euclidian_similarity)\n",
    "sample_and_safe_with_similarity(my_uncertainty, cosine_similarity, 5)\n",
    "# alpha 1/2 - 3.6377"
   ]
  },
  {
   "cell_type": "code",
   "execution_count": 276,
   "metadata": {},
   "outputs": [],
   "source": [
    "# sample_and_safe_with_similarity(skewed_entropy_uncertainty, cosine_similarity, 5)"
   ]
  },
  {
   "attachments": {},
   "cell_type": "markdown",
   "metadata": {},
   "source": [
    "Distance functions for sampling using uncertainty + knn similarity + distance representativeness."
   ]
  },
  {
   "cell_type": "code",
   "execution_count": 291,
   "metadata": {},
   "outputs": [],
   "source": [
    "def cosine_distance(data: pd.DataFrame, sample) -> np.ndarray:\n",
    "    # compute cosine similarity to all other samples\n",
    "    cosine_similarities = np.dot(data, sample) / (np.linalg.norm(data, axis=1) * np.linalg.norm(sample))\n",
    "    cosine_distances = 1 - cosine_similarities\n",
    "    return cosine_distances\n",
    "\n",
    "\n",
    "def euclidian_distance(data: pd.DataFrame, sample) -> np.ndarray:\n",
    "    # compute euclidian distance to all other samples\n",
    "    euclidian_distances = np.linalg.norm(data - sample, axis=1)\n",
    "    return euclidian_distances\n",
    "\n",
    "\n",
    "def get_distance_to_selected_indices(data: pd.DataFrame, distance_measure, selected_indices):\n",
    "    average_distances = np.zeros(data.shape[0])\n",
    "\n",
    "    # data to numpy array\n",
    "    data = data.to_numpy()\n",
    "    selected_data = data[selected_indices]\n",
    "    \n",
    "    for row_i in range(data.shape[0]):\n",
    "        if row_i not in selected_indices:     \n",
    "          distances = distance_measure(selected_data, data[row_i])\n",
    "          average_distances[row_i] = np.mean(distances)\n",
    "\n",
    "    return average_distances"
   ]
  },
  {
   "cell_type": "code",
   "execution_count": 308,
   "metadata": {},
   "outputs": [],
   "source": [
    "def select_with_similarity_and_dissimilarity(\n",
    "    clf,\n",
    "    unlabeled_data: pd.DataFrame,\n",
    "    uncertainty_measure: Callable[[np.ndarray], np.ndarray],\n",
    "    similarity_measure,\n",
    "    distance_measure,\n",
    "    number_of_neighbours,\n",
    "    n_samples: int = 1,\n",
    "    alpha: float = 1/2,\n",
    "    beta: float = 1\n",
    ") -> Tuple[List[int], pd.DataFrame]:\n",
    "  # select n_samples from unlabeled data using uncertainty_measure\n",
    "  unlabeled_data_normalized = (unlabeled_data - unlabeled_data.mean(axis=0)) / unlabeled_data.std(axis=0)\n",
    "  predictions_probabilities = clf.predict_proba(unlabeled_data)\n",
    "  uncertainty = uncertainty_measure(predictions_probabilities)\n",
    "  similarities = get_similarity(unlabeled_data_normalized, similarity_measure, number_of_neighbours)\n",
    "\n",
    "  informativeness = uncertainty * similarities\n",
    "  next_index = np.argsort(informativeness)[-1]\n",
    "  selected_indices = [next_index]\n",
    "\n",
    "  for _ in range(n_samples - 1):\n",
    "    distances = get_distance_to_selected_indices(unlabeled_data_normalized, distance_measure, selected_indices)\n",
    "    informativeness = uncertainty * (similarities**(alpha)) * (distances**(beta))\n",
    "    next_index = np.argsort(informativeness)[-1]\n",
    "    selected_indices.append(next_index)\n",
    "\n",
    "  return selected_indices\n",
    "\n",
    "\n",
    "def sample_and_safe_with_similarity_and_dissimilarity(query_strategy, similarity_measure, distance_measure, number_of_neighbours):\n",
    "    small_indices= select_with_similarity_and_dissimilarity(model, pool_data, query_strategy, similarity_measure, distance_measure, number_of_neighbours, 50)\n",
    "    big_indices = select_with_similarity_and_dissimilarity(model, pool_data, query_strategy, similarity_measure, distance_measure, number_of_neighbours, 200)\n",
    "\n",
    "    # save query_idx to text file in one line separated by commas\n",
    "    with open(f'{query_strategy.__name__}_with_{similarity_measure.__name__}_{number_of_neighbours}_neighbours_and_{distance_measure.__name__}.txt', 'w') as f:\n",
    "        f.write(','.join([str(idx+1) for idx in small_indices]))\n",
    "        f.write('\\n')\n",
    "        f.write(','.join([str(idx+1) for idx in big_indices]))"
   ]
  },
  {
   "cell_type": "code",
   "execution_count": 309,
   "metadata": {},
   "outputs": [],
   "source": [
    "sample_and_safe_with_similarity_and_dissimilarity(my_uncertainty, cosine_similarity, cosine_distance, 5)"
   ]
  },
  {
   "cell_type": "code",
   "execution_count": 298,
   "metadata": {},
   "outputs": [],
   "source": [
    "# sample_and_safe_with_similarity_and_dissimilarity(my_uncertainty, cosine_similarity, euclidian_distance, 5)"
   ]
  },
  {
   "attachments": {},
   "cell_type": "markdown",
   "metadata": {},
   "source": [
    "Final 2 solutions use:\n",
    "1. my_uncertainty + 5nn similarity with alpha = 1/2, cosine similarity.\n",
    "2. my_uncertainty + 5nn similarity with alpha = 1, cosine similarity + distance representativeness beta = 1, cosine distance."
   ]
  }
 ],
 "metadata": {
  "kernelspec": {
   "display_name": "research",
   "language": "python",
   "name": "python3"
  },
  "language_info": {
   "codemirror_mode": {
    "name": "ipython",
    "version": 3
   },
   "file_extension": ".py",
   "mimetype": "text/x-python",
   "name": "python",
   "nbconvert_exporter": "python",
   "pygments_lexer": "ipython3",
   "version": "3.10.6"
  },
  "orig_nbformat": 4
 },
 "nbformat": 4,
 "nbformat_minor": 2
}
