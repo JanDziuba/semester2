{
 "cells": [
  {
   "cell_type": "code",
   "execution_count": 1,
   "metadata": {},
   "outputs": [
    {
     "name": "stderr",
     "output_type": "stream",
     "text": [
      "[nltk_data] Downloading package reuters to /home/jan/nltk_data...\n",
      "[nltk_data]   Package reuters is already up-to-date!\n",
      "[nltk_data] Downloading package pl196x to /home/jan/nltk_data...\n",
      "[nltk_data]   Package pl196x is already up-to-date!\n"
     ]
    }
   ],
   "source": [
    "import sys\n",
    "\n",
    "import pprint\n",
    "\n",
    "import matplotlib.pyplot as plt\n",
    "from gensim.models import KeyedVectors\n",
    "from gensim.test.utils import datapath\n",
    "import random\n",
    "import nltk\n",
    "\n",
    "nltk.download('reuters')\n",
    "nltk.download('pl196x')\n",
    "import random\n",
    "\n",
    "import numpy as np\n",
    "import scipy as sp\n",
    "from nltk.corpus import reuters\n",
    "from nltk.corpus.reader import pl196x\n",
    "from sklearn.decomposition import PCA, TruncatedSVD\n",
    "\n",
    "START_TOKEN = '<START>'\n",
    "END_TOKEN = '<END>'\n",
    "\n",
    "np.random.seed(0)\n",
    "random.seed(0)"
   ]
  },
  {
   "cell_type": "code",
   "execution_count": 2,
   "metadata": {},
   "outputs": [],
   "source": [
    "def distinct_words(corpus):\n",
    "    \"\"\" Determine a list of distinct words for the corpus.\n",
    "        Params:\n",
    "            corpus (list of list of strings): corpus of documents\n",
    "        Return:\n",
    "            corpus_words (list of strings): list of distinct words across the \n",
    "            corpus, sorted (using python 'sorted' function)\n",
    "            num_corpus_words (integer): number of distinct words across the \n",
    "            corpus\n",
    "    \"\"\"\n",
    "    corpus_words = set()\n",
    "    num_corpus_words = -1\n",
    "\n",
    "    for document in corpus:\n",
    "        for word in document:\n",
    "            corpus_words.add(word)\n",
    "\n",
    "    \n",
    "    corpus_words = sorted(list(corpus_words))\n",
    "    num_corpus_words = len(corpus_words)\n",
    "\n",
    "    return corpus_words, num_corpus_words"
   ]
  },
  {
   "cell_type": "code",
   "execution_count": 3,
   "metadata": {},
   "outputs": [
    {
     "name": "stdout",
     "output_type": "stream",
     "text": [
      "--------------------------------------------------------------------------------\n",
      "Passed All Tests!\n",
      "--------------------------------------------------------------------------------\n"
     ]
    }
   ],
   "source": [
    "test_corpus = [\"START Ala miec kot i pies END\".split(\" \"),\n",
    "               \"START Ala lubic kot END\".split(\" \")]     \n",
    "test_corpus_words, num_corpus_words = distinct_words(test_corpus)\n",
    "\n",
    "# Correct answers\n",
    "ans_test_corpus_words = sorted(list(set([\n",
    "    'Ala', 'END', 'START', 'i', 'kot', 'lubic', 'miec', 'pies'])))\n",
    "ans_num_corpus_words = len(ans_test_corpus_words)\n",
    "\n",
    "# Test correct number of words\n",
    "assert(num_corpus_words == ans_num_corpus_words), \"Incorrect number of distinct words. Correct: {}. Yours: {}\".format(ans_num_corpus_words, num_corpus_words)\n",
    "\n",
    "# Test correct words\n",
    "assert (test_corpus_words == ans_test_corpus_words), \"Incorrect corpus_words.\\nCorrect: {}\\nYours:   {}\".format(str(ans_test_corpus_words), str(test_corpus_words))\n",
    "\n",
    "# Print Success\n",
    "print (\"-\" * 80)\n",
    "print(\"Passed All Tests!\")\n",
    "print (\"-\" * 80)"
   ]
  },
  {
   "cell_type": "code",
   "execution_count": 4,
   "metadata": {},
   "outputs": [
    {
     "data": {
      "text/plain": [
       "([], 0)"
      ]
     },
     "execution_count": 4,
     "metadata": {},
     "output_type": "execute_result"
    }
   ],
   "source": [
    "test_corpus = [[],\n",
    "               []]     \n",
    "test_corpus_words, num_corpus_words = distinct_words(test_corpus)\n",
    "test_corpus_words, num_corpus_words"
   ]
  },
  {
   "cell_type": "code",
   "execution_count": 5,
   "metadata": {},
   "outputs": [
    {
     "data": {
      "text/plain": [
       "array([[0., 0., 0., 0., 0.],\n",
       "       [0., 0., 0., 0., 0.],\n",
       "       [0., 0., 0., 0., 0.],\n",
       "       [0., 0., 0., 0., 0.],\n",
       "       [0., 0., 0., 0., 0.]])"
      ]
     },
     "execution_count": 5,
     "metadata": {},
     "output_type": "execute_result"
    }
   ],
   "source": [
    "import numpy as np\n",
    "\n",
    "M = np.zeros((5, 5))\n",
    "M"
   ]
  },
  {
   "cell_type": "code",
   "execution_count": 6,
   "metadata": {},
   "outputs": [
    {
     "name": "stdout",
     "output_type": "stream",
     "text": [
      "--------------------------------------------------------------------------------\n",
      "Passed All Tests!\n",
      "--------------------------------------------------------------------------------\n"
     ]
    }
   ],
   "source": [
    "#################################\n",
    "# TODO: b)\n",
    "def compute_co_occurrence_matrix(corpus, window_size=4):\n",
    "    \"\"\" Compute co-occurrence matrix for the given corpus and window_size (default of 4).\n",
    "    \n",
    "        Note: Each word in a document should be at the center of a window.\n",
    "            Words near edges will have a smaller number of co-occurring words.\n",
    "              \n",
    "              For example, if we take the document \"START All that glitters is not gold END\" with window size of 4,\n",
    "              \"All\" will co-occur with \"START\", \"that\", \"glitters\", \"is\", and \"not\".\n",
    "    \n",
    "        Params:\n",
    "            corpus (list of list of strings): corpus of documents\n",
    "            window_size (int): size of context window\n",
    "        Return:\n",
    "            M (numpy matrix of shape (number of corpus words, number of corpus words)): \n",
    "                Co-occurence matrix of word counts. \n",
    "                The ordering of the words in the rows/columns should be the \n",
    "                same as the ordering of the words given by the distinct_words \n",
    "                function.\n",
    "            word2Ind (dict): dictionary that maps word to index \n",
    "                (i.e. row/column number) for matrix M.\n",
    "    \"\"\"\n",
    "    words, num_words = distinct_words(corpus)\n",
    "\n",
    "    word2Ind = dict(zip(words, range(num_words)))\n",
    "\n",
    "    M = np.zeros((num_words, num_words))\n",
    "\n",
    "    for document in corpus:\n",
    "        for word_index in range(len(document)):\n",
    "\n",
    "            window_indices = list(range(max(0, word_index-window_size), \n",
    "                                        min(len(document), word_index+window_size+1)))\n",
    "            window_indices.remove(word_index)\n",
    "            for window_index in window_indices:\n",
    "                M[word2Ind[document[word_index]]][word2Ind[document[window_index]]] += 1\n",
    "\n",
    "    return M, word2Ind\n",
    "\n",
    "# ---------------------\n",
    "# Run this sanity check\n",
    "# Note that this is not an exhaustive check for correctness.\n",
    "# ---------------------\n",
    "\n",
    "# Define toy corpus and get student's co-occurrence matrix\n",
    "test_corpus = [\"START Ala miec kot i pies END\".split(\" \"),\n",
    "               \"START Ala lubic kot END\".split(\" \")]     \n",
    "M_test, word2Ind_test = compute_co_occurrence_matrix(\n",
    "    test_corpus, window_size=1)\n",
    "\n",
    "# Correct M and word2Ind\n",
    "M_test_ans = np.array([\n",
    "    [0., 0., 2., 0., 0., 1., 1., 0.],\n",
    "    [0., 0., 0., 0., 1., 0., 0., 1.],\n",
    "    [2., 0., 0., 0., 0., 0., 0., 0.],\n",
    "    [0., 0., 0., 0., 1., 0., 0., 1.],\n",
    "    [0., 1., 0., 1., 0., 1., 1., 0.],\n",
    "    [1., 0., 0., 0., 1., 0., 0., 0.],\n",
    "    [1., 0., 0., 0., 1., 0., 0., 0.],\n",
    "    [0., 1., 0., 1., 0., 0., 0., 0.]\n",
    "])\n",
    "\n",
    "word2Ind_ans = {\n",
    "    'Ala': 0, 'END': 1, 'START': 2, 'i': 3, 'kot': 4, 'lubic': 5, 'miec': 6,\n",
    "    'pies': 7}\n",
    "\n",
    "# Test correct word2Ind\n",
    "assert (word2Ind_ans == word2Ind_test), \"Your word2Ind is incorrect:\\nCorrect: {}\\nYours: {}\".format(word2Ind_ans, word2Ind_test)\n",
    "\n",
    "# Test correct M shape\n",
    "assert (M_test.shape == M_test_ans.shape), \"M matrix has incorrect shape.\\nCorrect: {}\\nYours: {}\".format(M_test.shape, M_test_ans.shape)\n",
    "\n",
    "# Test correct M values\n",
    "for w1 in word2Ind_ans.keys():\n",
    "    idx1 = word2Ind_ans[w1]\n",
    "    for w2 in word2Ind_ans.keys():\n",
    "        idx2 = word2Ind_ans[w2]\n",
    "        student = M_test[idx1, idx2]\n",
    "        correct = M_test_ans[idx1, idx2]\n",
    "        if student != correct:\n",
    "            print(\"Correct M:\")\n",
    "            print(M_test_ans)\n",
    "            print(\"Your M: \")\n",
    "            print(M_test)\n",
    "            raise AssertionError(\"Incorrect count at index ({}, {})=({}, {}) in matrix M. Yours has {} but should have {}.\".format(idx1, idx2, w1, w2, student, correct))\n",
    "\n",
    "# Print Success\n",
    "print (\"-\" * 80)\n",
    "print(\"Passed All Tests!\")\n",
    "print (\"-\" * 80)\n"
   ]
  },
  {
   "cell_type": "markdown",
   "metadata": {},
   "source": []
  },
  {
   "cell_type": "code",
   "execution_count": 7,
   "metadata": {},
   "outputs": [
    {
     "name": "stdout",
     "output_type": "stream",
     "text": [
      "Running Truncated SVD over 8 words...\n",
      "Done.\n",
      "--------------------------------------------------------------------------------\n",
      "Passed All Tests!\n",
      "--------------------------------------------------------------------------------\n"
     ]
    }
   ],
   "source": [
    "from sklearn.decomposition import TruncatedSVD\n",
    "\n",
    "\n",
    "def reduce_to_k_dim(M, k=2):\n",
    "    \"\"\" Reduce a co-occurence count matrix of dimensionality\n",
    "        (num_corpus_words, num_corpus_words)\n",
    "        to a matrix of dimensionality (num_corpus_words, k) using the following\n",
    "         SVD function from Scikit-Learn:\n",
    "            - http://scikit-learn.org/stable/modules/generated/sklearn.decomposition.TruncatedSVD.html\n",
    "\n",
    "        Params:\n",
    "            M (numpy matrix of shape (number of corpus words, number \n",
    "                of corpus words)): co-occurence matrix of word counts\n",
    "            k (int): embedding size of each word after dimension reduction\n",
    "        Return:\n",
    "            M_reduced (numpy matrix of shape (number of corpus words, k)):\n",
    "            matrix of k-dimensioal word embeddings.\n",
    "            In terms of the SVD from math class, this actually returns U * S\n",
    "    \"\"\"\n",
    "    n_iters = 10     # Use this parameter in your call to `TruncatedSVD`\n",
    "    M_reduced = None\n",
    "    print(\"Running Truncated SVD over %i words...\" % (M.shape[0]))\n",
    "\n",
    "    svd = TruncatedSVD(n_components=k, n_iter=n_iters, random_state=42)\n",
    "    M_reduced = svd.fit_transform(M)\n",
    "\n",
    "    print(\"Done.\")\n",
    "    return M_reduced\n",
    "\n",
    "# ---------------------\n",
    "# Run this sanity check\n",
    "# Note that this not an exhaustive check for correctness \n",
    "# In fact we only check that your M_reduced has the right dimensions.\n",
    "# ---------------------\n",
    "\n",
    "# Define toy corpus and run student code\n",
    "test_corpus = [\"START Ala miec kot i pies END\".split(\" \"),\n",
    "               \"START Ala lubic kot END\".split(\" \")]  \n",
    "M_test, word2Ind_test = compute_co_occurrence_matrix(test_corpus, window_size=1)\n",
    "M_test_reduced = reduce_to_k_dim(M_test, k=2)\n",
    "\n",
    "# Test proper dimensions\n",
    "assert (M_test_reduced.shape[0] == 8), \"M_reduced has {} rows; should have {}\".format(M_test_reduced.shape[0], 8)\n",
    "assert (M_test_reduced.shape[1] == 2), \"M_reduced has {} columns; should have {}\".format(M_test_reduced.shape[1], 2)\n",
    "\n",
    "# Print Success\n",
    "print (\"-\" * 80)\n",
    "print(\"Passed All Tests!\")\n",
    "print (\"-\" * 80)"
   ]
  },
  {
   "cell_type": "code",
   "execution_count": 41,
   "metadata": {},
   "outputs": [
    {
     "name": "stdout",
     "output_type": "stream",
     "text": [
      "--------------------------------------------------------------------------------\n",
      "Outputted Plot:\n"
     ]
    },
    {
     "data": {
      "image/png": "[encoded data removed]",
      "text/plain": [
       "<Figure size 640x480 with 1 Axes>"
      ]
     },
     "metadata": {},
     "output_type": "display_data"
    },
    {
     "name": "stdout",
     "output_type": "stream",
     "text": [
      "--------------------------------------------------------------------------------\n"
     ]
    }
   ],
   "source": [
    "import numpy as np\n",
    "import matplotlib.pyplot as plt\n",
    "\n",
    "def plot_embeddings(M_reduced, word2Ind, words, path=None, title=None):\n",
    "    \"\"\" Plot in a scatterplot the embeddings of the words specified \n",
    "        in the list \"words\".\n",
    "        NOTE: do not plot all the words listed in M_reduced / word2Ind.\n",
    "        Include a label next to each point.\n",
    "        \n",
    "        Params:\n",
    "            M_reduced (numpy matrix of shape (number of unique words in the\n",
    "            corpus , k)): matrix of k-dimensioal word embeddings\n",
    "            word2Ind (dict): dictionary that maps word to indices for matrix M\n",
    "            words (list of strings): words whose embeddings we want to\n",
    "            visualize\n",
    "    \"\"\"\n",
    "\n",
    "    x = [M_reduced[word2Ind[word], 0] for word in words]\n",
    "    y = [M_reduced[word2Ind[word], 1] for word in words]\n",
    "\n",
    "    plt.scatter(x, y)\n",
    "    plt.title(title)\n",
    "    plt.xlabel(\"svd_component_1\")\n",
    "    plt.ylabel(\"svd_component_2\")\n",
    "\n",
    "    for i, word in enumerate(words):\n",
    "        plt.annotate(word, (x[i], y[i]))\n",
    "\n",
    "    if path != None:\n",
    "        plt.savefig(path)\n",
    "\n",
    "    plt.show()\n",
    "\n",
    "\n",
    "\n",
    "# ---------------------\n",
    "# Run this sanity check\n",
    "# Note that this not an exhaustive check for correctness.\n",
    "# The plot produced should look like the \"test solution plot\" depicted below. \n",
    "# ---------------------\n",
    "\n",
    "print (\"-\" * 80)\n",
    "print (\"Outputted Plot:\")\n",
    "\n",
    "M_reduced_plot_test = np.array([[1, 1], [-1, -1], [1, -1], [-1, 1], [0, 0]])\n",
    "word2Ind_plot_test = {\n",
    "    'test1': 0, 'test2': 1, 'test3': 2, 'test4': 3, 'test5': 4}\n",
    "words = ['test1', 'test2', 'test3', 'test4', 'test5']\n",
    "plot_embeddings(M_reduced_plot_test, word2Ind_plot_test, words, 'test.png', 'test')\n",
    "\n",
    "print (\"-\" * 80)"
   ]
  },
  {
   "cell_type": "code",
   "execution_count": 9,
   "metadata": {},
   "outputs": [
    {
     "name": "stdout",
     "output_type": "stream",
     "text": [
      "Running Truncated SVD over 22957 words...\n",
      "Done.\n"
     ]
    },
    {
     "data": {
      "image/png": "[encoded data removed]",
      "text/plain": [
       "<Figure size 640x480 with 1 Axes>"
      ]
     },
     "metadata": {},
     "output_type": "display_data"
    },
    {
     "name": "stdout",
     "output_type": "stream",
     "text": [
      "Running Truncated SVD over 22957 words...\n",
      "Done.\n"
     ]
    },
    {
     "data": {
      "image/png": "[encoded data removed]",
      "text/plain": [
       "<Figure size 640x480 with 1 Axes>"
      ]
     },
     "metadata": {},
     "output_type": "display_data"
    }
   ],
   "source": [
    "def read_corpus_pl():\n",
    "    \"\"\" Read files from the specified Reuter's category.\n",
    "        Params:\n",
    "            category (string): category name\n",
    "        Return:\n",
    "            list of lists, with words from each of the processed files\n",
    "    \"\"\"\n",
    "    pl196x_dir = nltk.data.find('corpora/pl196x')\n",
    "    pl = pl196x.Pl196xCorpusReader(\n",
    "        pl196x_dir, r'.*\\.xml', textids='textids.txt',cat_file=\"cats.txt\")\n",
    "    tsents = pl.tagged_sents(fileids=pl.fileids(),categories='cats.txt')[:5000]\n",
    "\n",
    "    return [[START_TOKEN] + [\n",
    "        w[0].lower() for w in list(sent)] + [END_TOKEN] for sent in tsents]\n",
    "\n",
    "\n",
    "def plot_unnormalized(corpus, words):\n",
    "    M_co_occurrence, word2Ind_co_occurrence = compute_co_occurrence_matrix(\n",
    "        corpus)\n",
    "    M_reduced_co_occurrence = reduce_to_k_dim(M_co_occurrence, k=2)\n",
    "    plot_embeddings(M_reduced_co_occurrence, word2Ind_co_occurrence, words)\n",
    "\n",
    "\n",
    "def plot_normalized(corpus, words):\n",
    "    M_co_occurrence, word2Ind_co_occurrence = compute_co_occurrence_matrix(\n",
    "        corpus)\n",
    "    M_reduced_co_occurrence = reduce_to_k_dim(M_co_occurrence, k=2)\n",
    "    # Rescale (normalize) the rows to make them each of unit-length\n",
    "    M_lengths = np.linalg.norm(M_reduced_co_occurrence, axis=1)\n",
    "    M_normalized = M_reduced_co_occurrence / M_lengths[:, np.newaxis] # broadcasting\n",
    "    plot_embeddings(M_normalized, word2Ind_co_occurrence, words)\n",
    "\n",
    "pl_corpus = read_corpus_pl()\n",
    "words = [\n",
    "    \"sztuka\", \"śpiewaczka\", \"literatura\", \"poeta\", \"obywatel\"]\n",
    "\n",
    "plot_normalized(pl_corpus, words)\n",
    "plot_unnormalized(pl_corpus, words)"
   ]
  },
  {
   "cell_type": "code",
   "execution_count": 10,
   "metadata": {},
   "outputs": [],
   "source": [
    "#################################\n",
    "# Section 2:\n",
    "#################################\n",
    "# Then run the following to load the word2vec vectors into memory. \n",
    "# Note: This might take several minutes.\n",
    "wv_from_bin_pl = KeyedVectors.load(\"word2vec_100_3_polish.bin\")\n",
    "\n",
    "# -----------------------------------\n",
    "# Run Cell to Load Word Vectors\n",
    "# Note: This may take several minutes\n",
    "# -----------------------------------"
   ]
  },
  {
   "cell_type": "code",
   "execution_count": 11,
   "metadata": {},
   "outputs": [
    {
     "name": "stdout",
     "output_type": "stream",
     "text": [
      "Shuffling words ...\n",
      "Putting 10000 words into word2Ind and matrix M...\n",
      "Done.\n",
      "Running Truncated SVD over 10006 words...\n",
      "Done.\n"
     ]
    },
    {
     "name": "stderr",
     "output_type": "stream",
     "text": [
      "/tmp/ipykernel_26640/3021300119.py:22: DeprecationWarning: Call to deprecated `word_vec` (Use get_vector instead).\n",
      "  M.append(wv_from_bin.word_vec(w))\n",
      "/tmp/ipykernel_26640/3021300119.py:29: DeprecationWarning: Call to deprecated `word_vec` (Use get_vector instead).\n",
      "  M.append(wv_from_bin.word_vec(w))\n"
     ]
    },
    {
     "data": {
      "image/png": "[encoded data removed]",
      "text/plain": [
       "<Figure size 640x480 with 1 Axes>"
      ]
     },
     "metadata": {},
     "output_type": "display_data"
    }
   ],
   "source": [
    "#################################\n",
    "# TODO: a)\n",
    "def get_matrix_of_vectors(wv_from_bin, required_words):\n",
    "    \"\"\" Put the word2vec vectors into a matrix M.\n",
    "        Param:\n",
    "            wv_from_bin: KeyedVectors object; the 3 million word2vec vectors\n",
    "                         loaded from file\n",
    "        Return:\n",
    "            M: numpy matrix shape (num words, 300) containing the vectors\n",
    "            word2Ind: dictionary mapping each word to its row number in M\n",
    "    \"\"\"\n",
    "    words = list(wv_from_bin.key_to_index.keys())\n",
    "    print(\"Shuffling words ...\")\n",
    "    random.shuffle(words)\n",
    "    words = words[:10000]\n",
    "    print(\"Putting %i words into word2Ind and matrix M...\" % len(words))\n",
    "    word2Ind = {}\n",
    "    M = []\n",
    "    curInd = 0\n",
    "    for w in words:\n",
    "        try:\n",
    "            M.append(wv_from_bin.word_vec(w))\n",
    "            word2Ind[w] = curInd\n",
    "            curInd += 1\n",
    "        except KeyError:\n",
    "            continue\n",
    "    for w in required_words:\n",
    "        try:\n",
    "            M.append(wv_from_bin.word_vec(w))\n",
    "            word2Ind[w] = curInd\n",
    "            curInd += 1\n",
    "        except KeyError:\n",
    "            continue\n",
    "    M = np.stack(M)\n",
    "    print(\"Done.\")\n",
    "    return M, word2Ind\n",
    "\n",
    "# -----------------------------------------------------------------\n",
    "# Run Cell to Reduce 300-Dimensinal Word Embeddings to k Dimensions\n",
    "# Note: This may take several minutes\n",
    "# -----------------------------------------------------------------\n",
    "\n",
    "#################################\n",
    "# TODO: a)\n",
    "words = [\n",
    "    \"sztuka\", \"śpiewaczka\", \"literatura\", \"poeta\", \"artystyczny\", \"obywatel\"]\n",
    "M, word2Ind = get_matrix_of_vectors(wv_from_bin_pl, words)\n",
    "M_reduced = reduce_to_k_dim(M, k=2)\n",
    "\n",
    "plot_embeddings(M_reduced, word2Ind, words)"
   ]
  },
  {
   "cell_type": "code",
   "execution_count": 12,
   "metadata": {},
   "outputs": [
    {
     "name": "stderr",
     "output_type": "stream",
     "text": [
      "/home/jan/.local/lib/python3.10/site-packages/gensim/models/keyedvectors.py:849: RuntimeWarning: invalid value encountered in divide\n",
      "  dists = dot(self.vectors[clip_start:clip_end], mean) / self.norms[clip_start:clip_end]\n"
     ]
    },
    {
     "data": {
      "text/plain": [
       "[('słowa', 0.6893048286437988),\n",
       " ('cent', 0.6367954015731812),\n",
       " ('słowo', 0.6246823072433472),\n",
       " ('stówka', 0.6103435158729553),\n",
       " ('słówko', 0.608944833278656),\n",
       " ('pens', 0.5825462937355042),\n",
       " ('tów', 0.5744858980178833),\n",
       " ('wers', 0.573552668094635),\n",
       " ('centym', 0.5726915597915649),\n",
       " ('komunał', 0.5709105730056763)]"
      ]
     },
     "execution_count": 12,
     "metadata": {},
     "output_type": "execute_result"
    }
   ],
   "source": [
    "wv_from_bin_pl.most_similar(\"stówa\")"
   ]
  },
  {
   "cell_type": "code",
   "execution_count": 13,
   "metadata": {},
   "outputs": [
    {
     "data": {
      "text/plain": [
       "[('ołówek', 0.7772570848464966),\n",
       " ('kałamarz', 0.7675008177757263),\n",
       " ('długopis', 0.749649167060852),\n",
       " ('stalówka', 0.7384116649627686),\n",
       " ('pióra', 0.7325249910354614),\n",
       " ('pędzelek', 0.7157161235809326),\n",
       " ('obsadka', 0.7098774909973145),\n",
       " ('pergamin', 0.6852117776870728),\n",
       " ('inkaust', 0.675581157207489),\n",
       " ('piórko', 0.653999924659729)]"
      ]
     },
     "metadata": {},
     "output_type": "display_data"
    }
   ],
   "source": [
    "display(wv_from_bin_pl.most_similar(\"pióro\"))"
   ]
  },
  {
   "cell_type": "code",
   "execution_count": 14,
   "metadata": {},
   "outputs": [
    {
     "name": "stdout",
     "output_type": "stream",
     "text": [
      "Synonyms radosny, pogodny have cosine distance: 0.3306429386138916\n",
      "Antonyms radosny, smutny have cosine distance: 0.347899854183197\n"
     ]
    }
   ],
   "source": [
    "w1 = \"radosny\"\n",
    "w2 = \"pogodny\"\n",
    "w3 = \"smutny\"\n",
    "w1_w2_dist = wv_from_bin_pl.distance(w1, w2)\n",
    "w1_w3_dist = wv_from_bin_pl.distance(w1, w3)\n",
    "\n",
    "print(\"Synonyms {}, {} have cosine distance: {}\".format(w1, w2, w1_w2_dist))\n",
    "print(\"Antonyms {}, {} have cosine distance: {}\".format(w1, w3, w1_w3_dist))"
   ]
  },
  {
   "cell_type": "code",
   "execution_count": 15,
   "metadata": {},
   "outputs": [
    {
     "name": "stdout",
     "output_type": "stream",
     "text": [
      "Synonyms duży, tęgi have cosine distance: 0.6592637896537781\n",
      "Antonyms duży, mały have cosine distance: 0.25460952520370483\n"
     ]
    }
   ],
   "source": [
    "w1 = \"duży\"\n",
    "w2 = \"tęgi\"\n",
    "w3 = \"mały\"\n",
    "w1_w2_dist = wv_from_bin_pl.distance(w1, w2)\n",
    "w1_w3_dist = wv_from_bin_pl.distance(w1, w3)\n",
    "\n",
    "print(\"Synonyms {}, {} have cosine distance: {}\".format(w1, w2, w1_w2_dist))\n",
    "print(\"Antonyms {}, {} have cosine distance: {}\".format(w1, w3, w1_w3_dist))"
   ]
  },
  {
   "cell_type": "code",
   "execution_count": 16,
   "metadata": {},
   "outputs": [
    {
     "name": "stdout",
     "output_type": "stream",
     "text": [
      "[('tatuś', 0.9026258587837219),\n",
      " ('tato', 0.7971670031547546),\n",
      " ('dziadek', 0.780889093875885),\n",
      " ('mamusia', 0.7725973129272461),\n",
      " ('babcia', 0.7666307091712952),\n",
      " ('wujek', 0.7497749924659729),\n",
      " ('tatko', 0.7422767877578735),\n",
      " ('wujko', 0.7392509579658508),\n",
      " ('synek', 0.7334052920341492),\n",
      " ('ciocia', 0.7061461806297302)]\n"
     ]
    }
   ],
   "source": [
    "pprint.pprint(wv_from_bin_pl.most_similar(\n",
    "    positive=[\"tata\"], negative=[]))"
   ]
  },
  {
   "cell_type": "code",
   "execution_count": 17,
   "metadata": {},
   "outputs": [
    {
     "name": "stdout",
     "output_type": "stream",
     "text": [
      "[('władczyni', 0.7830896973609924),\n",
      " ('monarcha', 0.7474720478057861),\n",
      " ('król', 0.7462131977081299),\n",
      " ('monarchini', 0.7273676991462708),\n",
      " ('królowa', 0.6773377656936646),\n",
      " ('cesarz', 0.6653183698654175),\n",
      " ('hołdownik', 0.6651275157928467),\n",
      " ('padyszach', 0.6644163131713867),\n",
      " ('satrapa', 0.6641505360603333),\n",
      " ('możnowładca', 0.6494696736335754)]\n"
     ]
    }
   ],
   "source": [
    "pprint.pprint(wv_from_bin_pl.most_similar(\n",
    "    positive=[\"kobieta\", \"władca\"], negative=[\"mężczyzna\"]))"
   ]
  },
  {
   "cell_type": "code",
   "execution_count": 18,
   "metadata": {},
   "outputs": [
    {
     "name": "stdout",
     "output_type": "stream",
     "text": [
      "[('miesiąc', 0.7154368162155151),\n",
      " ('lato', 0.6962296366691589),\n",
      " ('tydzień', 0.6849808096885681),\n",
      " ('doba', 0.5967993140220642),\n",
      " ('dekada', 0.5900819897651672),\n",
      " ('dzień', 0.584226667881012),\n",
      " ('godzina', 0.5746790766716003),\n",
      " ('dziesięciolecie', 0.572984516620636),\n",
      " ('stulecie', 0.559540867805481),\n",
      " ('rok', 0.5404884219169617)]\n"
     ]
    }
   ],
   "source": [
    "pprint.pprint(wv_from_bin_pl.most_similar(\n",
    "    positive=[\"ryba\", \"latać\"], negative=[\"ptak\"]))"
   ]
  },
  {
   "cell_type": "code",
   "execution_count": 19,
   "metadata": {},
   "outputs": [
    {
     "name": "stdout",
     "output_type": "stream",
     "text": [
      "\n",
      "[('chlopiec', 0.8143627047538757),\n",
      " ('mezczyzne', 0.8100571632385254),\n",
      " ('mezczyzny', 0.7829848527908325),\n",
      " ('mezczyzni', 0.7822571396827698),\n",
      " ('kobiete', 0.7667574882507324),\n",
      " ('kiedys', 0.7440332770347595),\n",
      " ('mlody', 0.7302094101905823),\n",
      " ('czlowiekiem', 0.730177104473114),\n",
      " ('dziewczeta', 0.7239168286323547),\n",
      " ('czlowiek', 0.7219058871269226)]\n"
     ]
    }
   ],
   "source": [
    "\n",
    "print()\n",
    "pprint.pprint(wv_from_bin_pl.most_similar(\n",
    "    positive=['mezczyzna'], negative=[]))\n",
    "\n"
   ]
  },
  {
   "cell_type": "code",
   "execution_count": 20,
   "metadata": {},
   "outputs": [
    {
     "name": "stdout",
     "output_type": "stream",
     "text": [
      "[('wiceprezes', 0.6396454572677612),\n",
      " ('czlonkiem', 0.5929950475692749),\n",
      " ('przewodniczący', 0.5746127963066101),\n",
      " ('czlonek', 0.5648552179336548),\n",
      " ('przewodniczacym', 0.5586849451065063),\n",
      " ('wiceprzewodniczący', 0.5560489892959595),\n",
      " ('obowiazków', 0.5549101233482361),\n",
      " ('obowiazani', 0.5544129610061646),\n",
      " ('dyrektor', 0.5513691306114197),\n",
      " ('obowiazany', 0.5471130609512329)]\n"
     ]
    }
   ],
   "source": [
    "pprint.pprint(wv_from_bin_pl.most_similar(\n",
    "    positive=['mezczyzna', 'prezes'], negative=['kobieta']))\n"
   ]
  },
  {
   "cell_type": "code",
   "execution_count": 21,
   "metadata": {},
   "outputs": [
    {
     "name": "stdout",
     "output_type": "stream",
     "text": [
      "[('dohnalów', 0.43835189938545227),\n",
      " ('bezpłatnie', 0.43815746903419495),\n",
      " ('parkerowie', 0.43060770630836487),\n",
      " ('głodować', 0.42783328890800476),\n",
      " ('wilsonowie', 0.4206942021846771),\n",
      " ('nowożeńcy', 0.4188128113746643),\n",
      " ('unicef', 0.4124410152435303),\n",
      " ('barack', 0.40384429693222046),\n",
      " ('dasowie', 0.40381231904029846),\n",
      " ('mavrakis', 0.40115079283714294)]\n"
     ]
    }
   ],
   "source": [
    "pprint.pprint(wv_from_bin_pl.most_similar(\n",
    "    positive=['biały'], negative=['czarny']))"
   ]
  },
  {
   "cell_type": "code",
   "execution_count": 22,
   "metadata": {},
   "outputs": [
    {
     "name": "stdout",
     "output_type": "stream",
     "text": [
      "[('żelazy', 0.4573116898536682),\n",
      " ('wingiem', 0.4213998317718506),\n",
      " ('zawęźlenie', 0.42025598883628845),\n",
      " ('drillometer', 0.41730526089668274),\n",
      " ('biteń', 0.4157370626926422),\n",
      " ('sieżant', 0.4139999449253082),\n",
      " ('cymmeryjczyka', 0.41200801730155945),\n",
      " ('gorylowatej', 0.4082494378089905),\n",
      " ('ciometrowych', 0.40283823013305664),\n",
      " ('bełt', 0.402444064617157)]\n"
     ]
    }
   ],
   "source": [
    "pprint.pprint(wv_from_bin_pl.most_similar(\n",
    "    positive=['czarny'], negative=['biały']))"
   ]
  },
  {
   "cell_type": "code",
   "execution_count": 23,
   "metadata": {},
   "outputs": [
    {
     "name": "stdout",
     "output_type": "stream",
     "text": [
      "[('zaatakowac', 0.5070675611495972),\n",
      " ('dokonczyl', 0.5051069259643555),\n",
      " ('bagaz', 0.49883756041526794),\n",
      " ('niebezpieczenstwa', 0.49833419919013977),\n",
      " ('zmierzyc', 0.497328519821167),\n",
      " ('niedermayr', 0.4963065981864929),\n",
      " ('oszolomiony', 0.4955935776233673),\n",
      " ('wrzeszczec', 0.4900546371936798),\n",
      " ('przestancie', 0.4895210862159729),\n",
      " ('odwazny', 0.4894097149372101)]\n"
     ]
    }
   ],
   "source": [
    "pprint.pprint(wv_from_bin_pl.most_similar(\n",
    "    positive=['meżczyzna'], negative=['kobieta']))"
   ]
  },
  {
   "cell_type": "code",
   "execution_count": 24,
   "metadata": {},
   "outputs": [
    {
     "name": "stdout",
     "output_type": "stream",
     "text": [
      "[('jemnicę', 0.5955303311347961),\n",
      " ('francuzica', 0.5922670960426331),\n",
      " ('heloizą', 0.5670387148857117),\n",
      " ('laotong', 0.5662394762039185),\n",
      " ('bułczarka', 0.5638110041618347),\n",
      " ('heloizie', 0.5594379901885986),\n",
      " ('ekskuza', 0.559043288230896),\n",
      " ('mlodości', 0.556476891040802),\n",
      " ('rujhollę', 0.5524717569351196),\n",
      " ('francuzeczka', 0.5478253960609436)]\n"
     ]
    }
   ],
   "source": [
    "pprint.pprint(wv_from_bin_pl.most_similar(\n",
    "    positive=['kobieta'], negative=['mężczyzna']))"
   ]
  },
  {
   "cell_type": "code",
   "execution_count": 25,
   "metadata": {},
   "outputs": [
    {
     "name": "stdout",
     "output_type": "stream",
     "text": [
      "[('sauradyjskiego', 0.543503999710083),\n",
      " ('noway', 0.5132113695144653),\n",
      " ('gueyama', 0.49078604578971863),\n",
      " ('lewtanim', 0.4851609766483307),\n",
      " ('morelaka', 0.47792068123817444),\n",
      " ('jeľdziec', 0.4721604883670807),\n",
      " ('forcik', 0.46399614214897156),\n",
      " ('trzyrundowe', 0.4639435112476349),\n",
      " ('simb', 0.4617699682712555),\n",
      " ('zingarska', 0.4617287516593933)]\n"
     ]
    }
   ],
   "source": [
    "pprint.pprint(wv_from_bin_pl.most_similar(\n",
    "    positive=['mężczyzna'], negative=['kobieta']))"
   ]
  },
  {
   "cell_type": "code",
   "execution_count": 26,
   "metadata": {},
   "outputs": [],
   "source": [
    "# from gensim.test.utils import common_texts\n",
    "# from gensim.models import Word2Vec\n",
    "\n",
    "# model = Word2Vec(sentences=, vector_size=300, window=5, min_count=1, workers=4)\n",
    "# model.wv['computer']"
   ]
  },
  {
   "cell_type": "code",
   "execution_count": 27,
   "metadata": {},
   "outputs": [],
   "source": [
    "wv_from_bin = KeyedVectors.load_word2vec_format('./GoogleNews-vectors-negative300.bin', binary=True)"
   ]
  },
  {
   "cell_type": "code",
   "execution_count": 28,
   "metadata": {},
   "outputs": [
    {
     "data": {
      "text/plain": [
       "array([ 0.13085938,  0.00842285,  0.03344727, -0.05883789,  0.04003906,\n",
       "       -0.14257812,  0.04931641, -0.16894531,  0.20898438,  0.11962891,\n",
       "        0.18066406, -0.25      , -0.10400391, -0.10742188, -0.01879883,\n",
       "        0.05200195, -0.00216675,  0.06445312,  0.14453125, -0.04541016,\n",
       "        0.16113281, -0.01611328, -0.03088379,  0.08447266,  0.16210938,\n",
       "        0.04467773, -0.15527344,  0.25390625,  0.33984375,  0.00756836,\n",
       "       -0.25585938, -0.01733398, -0.03295898,  0.16308594, -0.12597656,\n",
       "       -0.09912109,  0.16503906,  0.06884766, -0.18945312,  0.02832031,\n",
       "       -0.0534668 , -0.03063965,  0.11083984,  0.24121094, -0.234375  ,\n",
       "        0.12353516, -0.00294495,  0.1484375 ,  0.33203125,  0.05249023,\n",
       "       -0.20019531,  0.37695312,  0.12255859,  0.11425781, -0.17675781,\n",
       "        0.10009766,  0.0030365 ,  0.26757812,  0.20117188,  0.03710938,\n",
       "        0.11083984, -0.09814453, -0.3125    ,  0.03515625,  0.02832031,\n",
       "        0.26171875, -0.08642578, -0.02258301, -0.05834961, -0.00787354,\n",
       "        0.11767578, -0.04296875, -0.17285156,  0.04394531, -0.23046875,\n",
       "        0.1640625 , -0.11474609, -0.06030273,  0.01196289, -0.24707031,\n",
       "        0.32617188, -0.04492188, -0.11425781,  0.22851562, -0.01647949,\n",
       "       -0.15039062, -0.13183594,  0.12597656, -0.17480469,  0.02209473,\n",
       "       -0.1015625 ,  0.00817871,  0.10791016, -0.24609375, -0.109375  ,\n",
       "       -0.09375   , -0.01623535, -0.20214844,  0.23144531, -0.05444336,\n",
       "       -0.05541992, -0.20898438,  0.26757812,  0.27929688,  0.17089844,\n",
       "       -0.17578125, -0.02770996, -0.20410156,  0.02392578,  0.03125   ,\n",
       "       -0.25390625, -0.125     , -0.05493164, -0.17382812,  0.28515625,\n",
       "       -0.23242188,  0.0234375 , -0.20117188, -0.13476562,  0.26367188,\n",
       "        0.00769043,  0.20507812, -0.01708984, -0.12988281,  0.04711914,\n",
       "        0.22070312,  0.02099609, -0.29101562, -0.02893066,  0.17285156,\n",
       "        0.04272461, -0.19824219, -0.04003906, -0.16992188,  0.10058594,\n",
       "       -0.09326172,  0.15820312, -0.16503906, -0.06054688,  0.19433594,\n",
       "       -0.07080078, -0.06884766, -0.09619141, -0.07226562,  0.04882812,\n",
       "        0.07324219,  0.11035156,  0.04858398, -0.17675781, -0.33789062,\n",
       "        0.22558594,  0.16308594,  0.05102539, -0.08251953,  0.07958984,\n",
       "        0.08740234, -0.16894531, -0.02160645, -0.19238281,  0.03857422,\n",
       "       -0.05102539,  0.21972656,  0.08007812, -0.21191406, -0.07519531,\n",
       "       -0.15039062,  0.3046875 , -0.17089844,  0.12353516, -0.234375  ,\n",
       "       -0.10742188, -0.06787109,  0.01904297, -0.14160156, -0.22753906,\n",
       "       -0.16308594,  0.14453125, -0.15136719, -0.296875  ,  0.22363281,\n",
       "       -0.10205078, -0.0456543 , -0.21679688, -0.09033203,  0.09375   ,\n",
       "       -0.15332031, -0.01550293,  0.3046875 , -0.23730469,  0.08935547,\n",
       "        0.03710938,  0.02941895, -0.28515625,  0.15820312, -0.00306702,\n",
       "        0.06054688,  0.00497437, -0.15234375, -0.00836182,  0.02197266,\n",
       "       -0.12109375, -0.13867188, -0.2734375 , -0.06835938,  0.08251953,\n",
       "       -0.26367188, -0.16992188,  0.14746094,  0.08496094,  0.02075195,\n",
       "        0.13671875, -0.04931641, -0.0100708 , -0.00369263, -0.10839844,\n",
       "        0.14746094, -0.15527344,  0.16113281,  0.05615234, -0.05004883,\n",
       "       -0.1640625 , -0.26953125,  0.4140625 ,  0.06079102, -0.046875  ,\n",
       "       -0.02514648,  0.10595703,  0.1328125 , -0.16699219, -0.04907227,\n",
       "        0.04663086,  0.05151367, -0.07958984, -0.16503906, -0.29882812,\n",
       "        0.06054688, -0.15332031, -0.00598145,  0.06640625, -0.04516602,\n",
       "        0.24316406, -0.07080078, -0.36914062, -0.23144531, -0.11914062,\n",
       "       -0.08300781,  0.14746094, -0.05761719,  0.23535156, -0.12304688,\n",
       "        0.14648438,  0.13671875,  0.15429688,  0.02111816, -0.09570312,\n",
       "        0.05859375,  0.03979492, -0.08105469,  0.0559082 , -0.16601562,\n",
       "        0.27148438, -0.20117188, -0.00915527,  0.07324219,  0.10449219,\n",
       "        0.34570312, -0.26367188,  0.02099609, -0.40039062, -0.03417969,\n",
       "       -0.15917969, -0.08789062,  0.08203125,  0.23339844,  0.0213623 ,\n",
       "       -0.11328125,  0.05249023, -0.10449219, -0.02380371, -0.08349609,\n",
       "       -0.04003906,  0.01916504, -0.01226807, -0.18261719, -0.06787109,\n",
       "       -0.08496094, -0.03039551, -0.05395508,  0.04248047,  0.12792969,\n",
       "       -0.27539062,  0.28515625, -0.04736328,  0.06494141, -0.11230469,\n",
       "       -0.02575684, -0.04125977,  0.22851562, -0.14941406, -0.15039062],\n",
       "      dtype=float32)"
      ]
     },
     "execution_count": 28,
     "metadata": {},
     "output_type": "execute_result"
    }
   ],
   "source": [
    "wv_from_bin['car']"
   ]
  },
  {
   "cell_type": "code",
   "execution_count": 29,
   "metadata": {},
   "outputs": [
    {
     "data": {
      "text/plain": [
       "[('barak', 0.6527604460716248),\n",
       " ('budynek', 0.6320288181304932),\n",
       " ('kolumna', 0.6194155216217041),\n",
       " ('sześcian', 0.6162456274032593),\n",
       " ('bunkier', 0.6111130118370056),\n",
       " ('sektor', 0.6096233129501343),\n",
       " ('platforma', 0.6064298748970032),\n",
       " ('prostopadłościan', 0.6036525964736938),\n",
       " ('segment', 0.5993013381958008),\n",
       " ('panel', 0.5989246964454651)]"
      ]
     },
     "execution_count": 29,
     "metadata": {},
     "output_type": "execute_result"
    }
   ],
   "source": [
    "wv_from_bin_pl.most_similar(\"blok\")"
   ]
  },
  {
   "cell_type": "code",
   "execution_count": 30,
   "metadata": {},
   "outputs": [
    {
     "data": {
      "text/plain": [
       "[('blocks', 0.542980968952179),\n",
       " ('Exume_tried', 0.5398644208908081),\n",
       " ('Kedvale_Avenue', 0.5273462533950806),\n",
       " ('Terroristic_threat', 0.5273101925849915),\n",
       " ('Hoyne_Avenue', 0.5253447890281677),\n",
       " ('Goguac_Street', 0.5237467288970947),\n",
       " ('Briarwood_Drive', 0.5208165049552917),\n",
       " ('Boxwood_Drive', 0.5202006101608276),\n",
       " ('Avers_Avenue', 0.5156642198562622),\n",
       " ('Woodale_Avenue', 0.5076020956039429)]"
      ]
     },
     "execution_count": 30,
     "metadata": {},
     "output_type": "execute_result"
    }
   ],
   "source": [
    "wv_from_bin.most_similar(\"block\")"
   ]
  },
  {
   "cell_type": "code",
   "execution_count": 31,
   "metadata": {},
   "outputs": [
    {
     "data": {
      "text/plain": [
       "[('vehicle', 0.7821096181869507),\n",
       " ('cars', 0.7423831224441528),\n",
       " ('SUV', 0.7160962224006653),\n",
       " ('minivan', 0.6907036900520325),\n",
       " ('truck', 0.6735789775848389),\n",
       " ('Car', 0.6677608489990234),\n",
       " ('Ford_Focus', 0.667320191860199),\n",
       " ('Honda_Civic', 0.6626849174499512),\n",
       " ('Jeep', 0.651133120059967),\n",
       " ('pickup_truck', 0.6441438794136047)]"
      ]
     },
     "execution_count": 31,
     "metadata": {},
     "output_type": "execute_result"
    }
   ],
   "source": [
    "wv_from_bin.most_similar(\"car\")"
   ]
  },
  {
   "cell_type": "code",
   "execution_count": 32,
   "metadata": {},
   "outputs": [
    {
     "name": "stdout",
     "output_type": "stream",
     "text": [
      "Synonyms big, colossal have cosine distance: 0.49641215801239014\n",
      "Antonyms big, small have cosine distance: 0.5041321516036987\n"
     ]
    }
   ],
   "source": [
    "w1 = \"big\"\n",
    "w2 = \"colossal\"\n",
    "w3 = \"small\"\n",
    "w1_w2_dist = wv_from_bin.distance(w1, w2)\n",
    "w1_w3_dist = wv_from_bin.distance(w1, w3)\n",
    "\n",
    "print(\"Synonyms {}, {} have cosine distance: {}\".format(w1, w2, w1_w2_dist))\n",
    "print(\"Antonyms {}, {} have cosine distance: {}\".format(w1, w3, w1_w3_dist))"
   ]
  },
  {
   "cell_type": "code",
   "execution_count": 33,
   "metadata": {},
   "outputs": [
    {
     "name": "stdout",
     "output_type": "stream",
     "text": [
      "[('bit', 0.7062703967094421),\n",
      " ('much', 0.5927826166152954),\n",
      " ('wee_bit', 0.5753095149993896),\n",
      " ('lot', 0.5397298336029053),\n",
      " (\"everything'sa\", 0.5307227373123169),\n",
      " ('teeny_bit', 0.5167810320854187),\n",
      " ('maybe', 0.5110480785369873),\n",
      " ('smidgen', 0.49733006954193115),\n",
      " ('litte', 0.49377959966659546),\n",
      " ('scant', 0.49189597368240356)]\n"
     ]
    }
   ],
   "source": [
    "pprint.pprint(wv_from_bin.most_similar(\n",
    "    positive=[\"little\", \"higher\"], negative=[\"lower\"]))"
   ]
  },
  {
   "cell_type": "code",
   "execution_count": 34,
   "metadata": {},
   "outputs": [
    {
     "name": "stdout",
     "output_type": "stream",
     "text": [
      "[('longline_vessels', 0.48074957728385925),\n",
      " ('fishing', 0.4567126929759979),\n",
      " ('fished', 0.44685736298561096),\n",
      " ('fishes', 0.43080002069473267),\n",
      " ('tuna', 0.4262666702270508),\n",
      " ('shad_darts', 0.4228907823562622),\n",
      " ('overfish', 0.4222323000431061),\n",
      " ('mackerel', 0.41814762353897095),\n",
      " ('saithe', 0.4176707863807678),\n",
      " ('mangrove_snappers', 0.41631370782852173)]\n"
     ]
    }
   ],
   "source": [
    "pprint.pprint(wv_from_bin.most_similar(\n",
    "    positive=[\"fish\", \"fly\"], negative=[\"bird\"]))"
   ]
  },
  {
   "cell_type": "code",
   "execution_count": 35,
   "metadata": {},
   "outputs": [
    {
     "name": "stdout",
     "output_type": "stream",
     "text": [
      "[('bosses', 0.5522644519805908),\n",
      " ('manageress', 0.49151360988616943),\n",
      " ('exec', 0.45940810441970825),\n",
      " ('Manageress', 0.4559843838214874),\n",
      " ('receptionist', 0.4474116563796997),\n",
      " ('Jane_Danson', 0.44480547308921814),\n",
      " ('Fiz_Jennie_McAlpine', 0.4427576959133148),\n",
      " ('Coronation_Street_actress', 0.44275563955307007),\n",
      " ('supremo', 0.4409853219985962),\n",
      " ('coworker', 0.43986251950263977)]\n",
      "\n",
      "[('President', 0.6693714261054993),\n",
      " ('chairman', 0.6291338801383972),\n",
      " ('chief_executive', 0.5799599885940552),\n",
      " ('CEO', 0.5605502128601074),\n",
      " ('pesident', 0.5466867089271545),\n",
      " ('Chairman', 0.5464242696762085),\n",
      " ('vice_president', 0.5376487374305725),\n",
      " ('prez', 0.5215684175491333),\n",
      " ('Presdient', 0.5107682347297668),\n",
      " ('presient', 0.498538076877594)]\n"
     ]
    }
   ],
   "source": [
    "pprint.pprint(wv_from_bin.most_similar(\n",
    "    positive=['woman', 'boss'], negative=['man']))\n",
    "print()\n",
    "pprint.pprint(wv_from_bin.most_similar(\n",
    "    positive=['man', 'president'], negative=['woman']))"
   ]
  },
  {
   "cell_type": "code",
   "execution_count": 36,
   "metadata": {},
   "outputs": [
    {
     "name": "stdout",
     "output_type": "stream",
     "text": [
      "[('Shaun_Maloney_Aiden_McGeady', 0.35027220845222473),\n",
      " ('tactically_adept', 0.3487197160720825),\n",
      " ('Matt_Bramald', 0.3400961458683014),\n",
      " ('strongside_LB', 0.337636798620224),\n",
      " ('newboy', 0.33329278230667114),\n",
      " ('Philip_Boampong', 0.33152341842651367),\n",
      " ('joker', 0.3312978446483612),\n",
      " ('superpest', 0.3302587866783142),\n",
      " ('TRENDING_UP', 0.3300756514072418),\n",
      " ('Felipe_Claybrooks', 0.3289523720741272)]\n"
     ]
    }
   ],
   "source": [
    "pprint.pprint(wv_from_bin.most_similar(\n",
    "    positive=['man'], negative=['woman']))"
   ]
  },
  {
   "cell_type": "code",
   "execution_count": 37,
   "metadata": {},
   "outputs": [
    {
     "name": "stdout",
     "output_type": "stream",
     "text": [
      "[('she', 0.45412716269493103),\n",
      " ('her', 0.39712801575660706),\n",
      " ('Certified_Nurse_Midwife', 0.3824717402458191),\n",
      " ('Ms.', 0.37514764070510864),\n",
      " ('silicone_gel_implant', 0.3704040050506592),\n",
      " ('girlhood', 0.37001779675483704),\n",
      " ('nurse_midwife', 0.369699090719223),\n",
      " ('undergo_hysterectomy', 0.36893028020858765),\n",
      " ('silicone_breast_implants', 0.3683786392211914),\n",
      " ('breastfeeds', 0.36699435114860535)]\n"
     ]
    }
   ],
   "source": [
    "pprint.pprint(wv_from_bin.most_similar(\n",
    "    positive=['woman'], negative=['man']))"
   ]
  }
 ],
 "metadata": {
  "kernelspec": {
   "display_name": "Python 3",
   "language": "python",
   "name": "python3"
  },
  "language_info": {
   "codemirror_mode": {
    "name": "ipython",
    "version": 3
   },
   "file_extension": ".py",
   "mimetype": "text/x-python",
   "name": "python",
   "nbconvert_exporter": "python",
   "pygments_lexer": "ipython3",
   "version": "3.10.6"
  },
  "orig_nbformat": 4,
  "vscode": {
   "interpreter": {
    "hash": "916dbcbb3f70747c44a77c7bcd40155683ae19c65e1c03b4aa3499c5328201f1"
   }
  }
 },
 "nbformat": 4,
 "nbformat_minor": 2
}
